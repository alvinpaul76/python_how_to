{
 "cells": [
  {
   "attachments": {},
   "cell_type": "markdown",
   "metadata": {},
   "source": [
    "# DATA TYPES"
   ]
  },
  {
   "cell_type": "code",
   "execution_count": 1,
   "metadata": {},
   "outputs": [
    {
     "name": "stdout",
     "output_type": "stream",
     "text": [
      "I am a string\n",
      "I am a string\n",
      "I'm a string\n",
      "I am a \"string\"\n",
      "I'm a \"string\"\n",
      "I'm a \"string\"\n"
     ]
    }
   ],
   "source": [
    "# Strings (str): a sequence of characters\n",
    "\n",
    "print('I am a string')\n",
    "print(\"I am a string\")\n",
    "print(\"I'm a string\")\n",
    "print('I am a \"string\"')\n",
    "print(\"I'm a \\\"string\\\"\")\n",
    "print(\"I'm\" + ' a \"string\"')"
   ]
  },
  {
   "cell_type": "code",
   "execution_count": 2,
   "metadata": {},
   "outputs": [
    {
     "name": "stdout",
     "output_type": "stream",
     "text": [
      "1\n",
      "2\n",
      "3\n",
      "4\n",
      "1.0\n",
      "1\n"
     ]
    }
   ],
   "source": [
    "# Integers (int): whole numbers without a decimal point\n",
    "\n",
    "print(1)\n",
    "print(2)\n",
    "print(1+2)\n",
    "print(2*2)\n",
    "print(3/3)\n",
    "print(2-1)"
   ]
  },
  {
   "cell_type": "code",
   "execution_count": 3,
   "metadata": {},
   "outputs": [
    {
     "name": "stdout",
     "output_type": "stream",
     "text": [
      "1.234\n",
      "3.14159265359\n",
      "4.0\n",
      "3.3000000000000003\n",
      "4.4399999999999995\n",
      "3.7199999999999998\n",
      "2.0\n"
     ]
    }
   ],
   "source": [
    "# Floats (float): numbers with a decimal point\n",
    "\n",
    "print(1.234)\n",
    "print(3.14159265359)\n",
    "print(4.0)\n",
    "print(2.2+1.1)\n",
    "print(5.55-1.11)\n",
    "print(3.1*1.2)\n",
    "print(4.4/2.2)"
   ]
  },
  {
   "attachments": {},
   "cell_type": "markdown",
   "metadata": {},
   "source": [
    "## Why floating-point calculations inaccurate?\n",
    "\n",
    "The floating-point calculations are inaccurate because mainly the rationals are approximating that cannot be represented finitely in base 2 and in general they are approximating numbers which may not be representable in finitely many digits in any base.\n",
    "\n",
    "Let’s say we have a fraction:\n",
    "> `5/3`\n",
    "\n",
    "We can write the above in base 10 as:\n",
    "> `1.666...`<br>\n",
    "> `1.666`<br>\n",
    "> `1.667`<br>\n",
    "\n",
    "As shown in the above representations, we associate and consider both i.e., 1.666 and 1.667 with the fraction 5/3, even though the first representation 1.666… is actually mathematically equal to the fraction.\n",
    "\n",
    "The second and third representations 1.666 and 1.667 is having an error on the order of 0.001, which is more problematic than the error between let’s say, 9.2 and 9.1999999999999993. The second representation isn't even rounded correctly!\n",
    "\n",
    "As we don't have an issue with 0.666 as a representation of the number 2/3, therefore we shouldn't really have a problem with how 9.2 is approximated.\n",
    "\n",
    "https://docs.python.org/2/tutorial/floatingpoint.html"
   ]
  },
  {
   "attachments": {},
   "cell_type": "markdown",
   "metadata": {},
   "source": [
    "To make the float an integer, we can do a type conversion which \n",
    "is an explicit method to convert an operand to a specific type.\n",
    "\n",
    "However, it is a lossy data conversion. Converting 2 to a floating point is fine."
   ]
  },
  {
   "cell_type": "code",
   "execution_count": 4,
   "metadata": {},
   "outputs": [
    {
     "name": "stdout",
     "output_type": "stream",
     "text": [
      "2.0\n"
     ]
    }
   ],
   "source": [
    "print(float(2))"
   ]
  },
  {
   "attachments": {},
   "cell_type": "markdown",
   "metadata": {},
   "source": [
    "But converting a float like 3.4 to in will result to 3 which leads\n",
    "to a lossy conversion"
   ]
  },
  {
   "cell_type": "code",
   "execution_count": 5,
   "metadata": {},
   "outputs": [
    {
     "name": "stdout",
     "output_type": "stream",
     "text": [
      "3\n"
     ]
    }
   ],
   "source": [
    "print(int(3.4))"
   ]
  },
  {
   "cell_type": "code",
   "execution_count": 6,
   "metadata": {},
   "outputs": [
    {
     "name": "stdout",
     "output_type": "stream",
     "text": [
      "True\n",
      "False\n",
      "False\n",
      "True\n"
     ]
    }
   ],
   "source": [
    "# Boolean\n",
    "\n",
    "print(True)\n",
    "print(False)\n",
    "print(not True)\n",
    "print(not False)"
   ]
  },
  {
   "cell_type": "code",
   "execution_count": 13,
   "metadata": {},
   "outputs": [
    {
     "name": "stdout",
     "output_type": "stream",
     "text": [
      "List:\n",
      "strawberry\n",
      "apple\n",
      "orange\n",
      "banana\n",
      "pineapple\n",
      "This is my fruit list ['strawberry', 'apple', 'orange', 'banana', 'pineapple']\n",
      "This is my fruit list after sorting ['apple', 'banana', 'orange', 'pineapple', 'strawberry']\n",
      "List:\n",
      "100\n",
      "40\n",
      "99\n",
      "Pay per day [100, 40, 99]\n",
      "Pay per day after sorting [40, 99, 100]\n",
      "Pay per day after insert [40, 99, 88, 100]\n"
     ]
    }
   ],
   "source": [
    "# Lists\n",
    "\n",
    "def print_list(my_list):\n",
    "    print(\"List:\")\n",
    "    for list in my_list:\n",
    "        print(list)\n",
    "\n",
    "fruits = [\"strawberry\", \"apple\", \"orange\", \"banana\", \"pineapple\"]\n",
    "\n",
    "print_list(fruits)\n",
    "print(f\"This is my fruit list {fruits}\")\n",
    "\n",
    "fruits.sort()\n",
    "print(f\"This is my fruit list after sorting {fruits}\")\n",
    "\n",
    "pay_per_day = [100, 40, 99]\n",
    "\n",
    "print_list(pay_per_day)\n",
    "print(f\"Pay per day {pay_per_day}\")\n",
    "\n",
    "pay_per_day.sort()\n",
    "print(f\"Pay per day after sorting {pay_per_day}\")\n",
    "\n",
    "pay_per_day.insert(2, 88)\n",
    "print(f\"Pay per day after insert {pay_per_day}\")\n"
   ]
  },
  {
   "cell_type": "code",
   "execution_count": 7,
   "metadata": {},
   "outputs": [
    {
     "name": "stdout",
     "output_type": "stream",
     "text": [
      "Hello!\n",
      "2\n",
      "3.1415\n",
      "False\n",
      "True\n",
      "6.283\n",
      "The result of 2 multiplied by 3.1415 is 6.283\n",
      "The result of 2 multiplied by 3.1415 is 6.283\n",
      "The result of 2 multiplied by 3.1415 is 6.283\n",
      "The result of 2 multiplied by 3.1415 is 6.283\n",
      "The result of 2 multiplied by 3.1415 is 6.283\n"
     ]
    }
   ],
   "source": [
    "# Variables\n",
    "\n",
    "my_string = \"Hello!\"\n",
    "my_int = 2\n",
    "my_float = 3.1415\n",
    "my_boolean = False\n",
    "\n",
    "print(my_string)\n",
    "print(my_int)\n",
    "print(my_float)\n",
    "print(my_boolean)\n",
    "print(not my_boolean)\n",
    "\n",
    "my_result = my_int * my_float\n",
    "print(my_result)\n",
    "\n",
    "# String concatenation\n",
    "print(\"The result of \" + str(my_int) + \" multiplied by \" + str(my_float) + \" is \" + str(my_result))\n",
    "print(\"The result of\", my_int, \"multiplied by\", my_float, \"is\",my_result)\n",
    "\n",
    "# %-Formatting\n",
    "print(\"The result of %s multiplied by %s is %s\" %(my_int, my_float, my_result))\n",
    "\n",
    "# join\n",
    "print(\" \".join([\"The result of\", str(my_int), \"multiplied by\", str(my_float),  \"is\",  str(my_result)]))\n",
    "\n",
    "# F-Strings\n",
    "print(f\"The result of {my_int} multiplied by {my_float} is {my_result}\")\n"
   ]
  }
 ],
 "metadata": {
  "kernelspec": {
   "display_name": "how-to",
   "language": "python",
   "name": "python3"
  },
  "language_info": {
   "codemirror_mode": {
    "name": "ipython",
    "version": 3
   },
   "file_extension": ".py",
   "mimetype": "text/x-python",
   "name": "python",
   "nbconvert_exporter": "python",
   "pygments_lexer": "ipython3",
   "version": "3.10.7"
  },
  "orig_nbformat": 4
 },
 "nbformat": 4,
 "nbformat_minor": 2
}
