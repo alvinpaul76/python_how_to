{
 "cells": [
  {
   "attachments": {},
   "cell_type": "markdown",
   "metadata": {},
   "source": [
    "MATH MODULE"
   ]
  },
  {
   "cell_type": "code",
   "execution_count": 16,
   "metadata": {},
   "outputs": [
    {
     "name": "stdout",
     "output_type": "stream",
     "text": [
      "4\n",
      "3\n"
     ]
    }
   ],
   "source": [
    "from math import ceil, floor\n",
    "\n",
    "x = 3.1415\n",
    "\n",
    "# ceil: Return the ceiling of x, the smallest integer greater than or equal to x. If x is not a float, delegates to x.__ceil__, which should return an Integral value.\n",
    "print(ceil(x))\n",
    "\n",
    "# floor: Return the floor of x, the largest integer less than or equal to x. If x is not a float, delegates to x.__floor__, which should return an Integral value.\n",
    "print(floor(x))"
   ]
  },
  {
   "cell_type": "code",
   "execution_count": 10,
   "metadata": {},
   "outputs": [
    {
     "name": "stdout",
     "output_type": "stream",
     "text": [
      "If there are 10 people, the number of combination of people that can seat on our 5 seats without repetition without order is 252\n",
      "If there are 10 people, the number of combination of people that can seat on our 5 seats without repetition and with order is 30240\n"
     ]
    }
   ],
   "source": [
    "from math import comb, perm\n",
    "\n",
    "number_of_people = 10 # k\n",
    "number_of_seats = 5 # n\n",
    "\n",
    "# comb: Return the number of ways to choose k items from n items without repetition and without order.\n",
    "print(f\"If there are {number_of_people} people, the number of combination of people that can seat on our {number_of_seats} seats without repetition without order is {comb(number_of_people, number_of_seats)}\")\n",
    "\n",
    "# perm: Return the number of ways to choose k items from n items without repetition and with order.\n",
    "print(f\"If there are {number_of_people} people, the number of combination of people that can seat on our {number_of_seats} seats without repetition and with order is {perm(number_of_people, number_of_seats)}\")"
   ]
  },
  {
   "cell_type": "code",
   "execution_count": 14,
   "metadata": {},
   "outputs": [
    {
     "name": "stdout",
     "output_type": "stream",
     "text": [
      "-10.0\n"
     ]
    }
   ],
   "source": [
    "from math import copysign\n",
    "\n",
    "# copysign: Return a float with the magnitude (absolute value) of x but the sign of y. On platforms that support signed.\n",
    "speed = 10 # meters/second\n",
    "distance_moved = -3 # meters\n",
    "velocity = copysign(speed, distance_moved)\n",
    "\n",
    "print(velocity)\n"
   ]
  },
  {
   "cell_type": "code",
   "execution_count": 15,
   "metadata": {},
   "outputs": [
    {
     "name": "stdout",
     "output_type": "stream",
     "text": [
      "120\n"
     ]
    }
   ],
   "source": [
    "from math import factorial\n",
    "\n",
    "# factorial: Return n factorial as an integer. Raises ValueError if n is not integral or is negative.\n",
    "x = factorial(5) # 1*2*3*4*5\n",
    "\n",
    "print(x)"
   ]
  },
  {
   "cell_type": "code",
   "execution_count": 18,
   "metadata": {},
   "outputs": [
    {
     "name": "stdout",
     "output_type": "stream",
     "text": [
      "1.7999999999999998\n",
      "1.8\n"
     ]
    }
   ],
   "source": [
    "from math import fsum\n",
    "\n",
    "# fsum: Return an accurate floating point sum of values in the iterable. Avoids loss of precision by tracking multiple intermediate partial sums:\n",
    "\n",
    "my_list = [.2, .2, .2, .2, .2, .2, .2, .2, .2]\n",
    "\n",
    "print(sum(my_list))\n",
    "print(fsum(my_list))"
   ]
  },
  {
   "attachments": {},
   "cell_type": "markdown",
   "metadata": {},
   "source": [
    "The algorithm’s accuracy depends on IEEE-754 arithmetic guarantees and the typical case where the rounding mode is half-even. On some non-Windows builds, the underlying C library uses extended precision addition and may occasionally double-round an intermediate sum causing it to be off in its least significant bit.\n",
    "\n",
    "For further discussion and two alternative approaches, see the ASPN cookbook recipes for accurate floating point summation (https://code.activestate.com/recipes/393090/)\n",
    "\n",
    "Suggestion is to use fsum method for your summations."
   ]
  }
 ],
 "metadata": {
  "kernelspec": {
   "display_name": "how-to",
   "language": "python",
   "name": "python3"
  },
  "language_info": {
   "codemirror_mode": {
    "name": "ipython",
    "version": 3
   },
   "file_extension": ".py",
   "mimetype": "text/x-python",
   "name": "python",
   "nbconvert_exporter": "python",
   "pygments_lexer": "ipython3",
   "version": "3.9.2"
  },
  "orig_nbformat": 4
 },
 "nbformat": 4,
 "nbformat_minor": 2
}
