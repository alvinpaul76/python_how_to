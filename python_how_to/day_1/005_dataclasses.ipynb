{
 "cells": [
  {
   "attachments": {},
   "cell_type": "markdown",
   "metadata": {},
   "source": [
    "# Dataclasses\n",
    "\n",
    "Dataclasses are primarily aimed at creating data oriented classes. Think of things like a class to represent a point or a vector or any kind of simple data structure. This is very different with behavior oriented classes like a payment service that exposes a number of methods that you call in order to process payments.\n",
    "\n",
    "Python dataclasses are a relatively new feature introduced in Python 3.7 that provide a way to create classes that are primarily used to store data, with less boilerplate code than regular classes. Dataclasses can be thought of as a way to define classes that are similar to named tuples, but with added functionality and the ability to define methods.\n",
    "\n",
    "How does a dataclass help in representing data oriented classes? Dataclasses provide a simple way to define classes that represent data, by automatically generating a `constructor` (`__init__`), `representation` (`repr`), `equality` (`eq`), and other special methods that are typically used in data-oriented classes. This makes it easier to write classes that are focused on storing and working with data, rather than implementing complex behaviors.\n",
    "\n",
    "To create a dataclass, you simply use the `@dataclass` decorator and define the fields that the class should have."
   ]
  },
  {
   "attachments": {},
   "cell_type": "markdown",
   "metadata": {},
   "source": [
    "#### *Just a side note on decorators:*\n",
    "    \n",
    "A decorator is a special type of function that can be used to modify the behavior of another function or class. A decorator is defined using the `\"@\"` symbol followed by the name of the decorator function.\n",
    "\n",
    "Decorators allow you to add functionality to existing code without modifying the original code. This is particularly useful when you want to add functionality to a library or module that you don't have control over.\n",
    "\n",
    "Here's a simple example of a decorator that adds timing information to a function:"
   ]
  },
  {
   "cell_type": "code",
   "execution_count": null,
   "metadata": {},
   "outputs": [],
   "source": [
    "import time\n",
    "\n",
    "def timer(func):\n",
    "    def wrapper(*args, **kwargs):\n",
    "        start_time = time.time()\n",
    "        result = func(*args, **kwargs)\n",
    "        end_time = time.time()\n",
    "        print(f\"Execution time: {end_time - start_time} seconds\")\n",
    "        return result\n",
    "    return wrapper\n",
    "\n",
    "@timer\n",
    "def my_function():\n",
    "    print(\"I am using the 'timer' decorator\")\n",
    "\n",
    "my_function()"
   ]
  },
  {
   "attachments": {},
   "cell_type": "markdown",
   "metadata": {},
   "source": [
    "The `timer` function is a decorator that takes a function as an argument and returns a new function that wraps the original function with timing code. The `@timer` syntax is used to apply the decorator to the my_function function.\n",
    "\n",
    "When my_function is called, it will now include the timing information provided by the timer decorator."
   ]
  },
  {
   "attachments": {},
   "cell_type": "markdown",
   "metadata": {},
   "source": [
    "Let's go back to our topic."
   ]
  },
  {
   "cell_type": "code",
   "execution_count": null,
   "metadata": {},
   "outputs": [],
   "source": [
    "from dataclasses import dataclass\n",
    "\n",
    "@dataclass\n",
    "class Person:\n",
    "    name: str\n",
    "    age: int\n"
   ]
  },
  {
   "attachments": {},
   "cell_type": "markdown",
   "metadata": {},
   "source": [
    "This creates a Person class with two fields: name (a string) and age (an integer). The @dataclass decorator automatically generates a constructor and other methods like `__repr__` and `__eq__` based on the defined fields.\n",
    "\n",
    "This means that you can create instances of the Person class like this:\n",
    "> `p = Person(\"Alice\", 30)`\n",
    "\n",
    "Dataclasses also support default values for fields, as well as type annotations and other features that make working with data structures in Python more convenient."
   ]
  },
  {
   "attachments": {},
   "cell_type": "markdown",
   "metadata": {},
   "source": [
    "Another Example:"
   ]
  },
  {
   "cell_type": "code",
   "execution_count": null,
   "metadata": {},
   "outputs": [],
   "source": [
    "import random\n",
    "import string\n",
    "\n",
    "def generate_id() -> str:\n",
    "    return \"\".join(random.choices(string.ascii_letters, k=25))\n",
    "\n",
    "class Person:\n",
    "    def __init__(self, name: str, address: str):\n",
    "        self.name = name\n",
    "        self.address = address\n",
    "        \n",
    "person = Person(name=\"Alvin\", address=\"143 Singapore\")\n",
    "print(person)\n"
   ]
  },
  {
   "attachments": {},
   "cell_type": "markdown",
   "metadata": {},
   "source": [
    "Unfortunately, the value returned by `person` was not very useful as it was just a memory addresss. Ideally, when you want to print the person, you would want to see the name and the address.\n",
    "\n",
    "What we can do is that we can add a `__str__` dunder method to our class to indicate what should happen when we print the class."
   ]
  },
  {
   "cell_type": "code",
   "execution_count": null,
   "metadata": {},
   "outputs": [],
   "source": [
    "import random\n",
    "import string\n",
    "\n",
    "def generate_id() -> str:\n",
    "    return \"\".join(random.choices(string.ascii_letters, k=25))\n",
    "\n",
    "class Person:\n",
    "    def __init__(self, name: str, address: str):\n",
    "        self.name = name\n",
    "        self.address = address\n",
    "\n",
    "    def __str__(self) -> str:\n",
    "        return f\"name={self.name}, address={self.address}\"\n",
    "        \n",
    "person = Person(name=\"Alvin\", address=\"143 Singapore\")\n",
    "print(person)\n"
   ]
  },
  {
   "attachments": {},
   "cell_type": "markdown",
   "metadata": {},
   "source": [
    "The problem with the above approach is that when we need to add a few more attributes to the `Person` class: \n",
    "- we need to add it as an argument \n",
    "- we need to store these arguments to the actual attributes of the object\n",
    "- we need to add it to the `__str__` dunder method\n",
    "- we need to make sure that when we compare the `person` we need to make sure that we take the new field into account if it is applicable\n",
    "\n",
    "So, it complicates things. This is where dataclasses come into the picture."
   ]
  },
  {
   "cell_type": "code",
   "execution_count": null,
   "metadata": {},
   "outputs": [],
   "source": [
    "import random\n",
    "import string\n",
    "from dataclasses import dataclass\n",
    "\n",
    "def generate_id() -> str:\n",
    "    return \"\".join(random.choices(string.ascii_letters, k=25))\n",
    "\n",
    "@dataclass\n",
    "class Person:\n",
    "    name: str\n",
    "    address: str\n",
    "        \n",
    "person = Person(name=\"Alvin\", address=\"143 Singapore\")\n",
    "print(person)"
   ]
  },
  {
   "attachments": {},
   "cell_type": "markdown",
   "metadata": {},
   "source": [
    "Another thing that we can do with dataclasses is that we can assign default values to an attribute."
   ]
  },
  {
   "cell_type": "code",
   "execution_count": null,
   "metadata": {},
   "outputs": [],
   "source": [
    "import random\n",
    "import string\n",
    "from dataclasses import dataclass\n",
    "\n",
    "def generate_id() -> str:\n",
    "    return \"\".join(random.choices(string.ascii_letters, k=25))\n",
    "\n",
    "@dataclass\n",
    "class Person:\n",
    "    name: str\n",
    "    address: str\n",
    "    active: bool = True\n",
    "        \n",
    "person = Person(name=\"Alvin\", address=\"143 Singapore\")\n",
    "print(person)"
   ]
  },
  {
   "attachments": {},
   "cell_type": "markdown",
   "metadata": {},
   "source": [
    "For primitive types like booleans, integers floats and strings, this way of defaulting values works pretty well. But what if we have something a little bit more complicated. For example, we would like to add a list of email addresses which initially we would need to default to a blank list."
   ]
  },
  {
   "cell_type": "code",
   "execution_count": null,
   "metadata": {},
   "outputs": [],
   "source": [
    "import random\n",
    "import string\n",
    "from dataclasses import dataclass\n",
    "\n",
    "def generate_id() -> str:\n",
    "    return \"\".join(random.choices(string.ascii_letters, k=25))\n",
    "\n",
    "@dataclass\n",
    "class Person:\n",
    "    name: str\n",
    "    address: str\n",
    "    active: bool = True\n",
    "    email_addresses: list[str] = []\n",
    "        \n",
    "person = Person(name=\"Alvin\", address=\"143 Singapore\")\n",
    "print(person)"
   ]
  },
  {
   "attachments": {},
   "cell_type": "markdown",
   "metadata": {},
   "source": [
    "The problem is python would evaluate the default values when it interprets the script. When we try to access the value of email address which is a it will always refer to the same list, thus each person will have the same list of email address which is problematic.\n",
    "\n",
    "To solve that, dataclasses provides a factory function that we can use instead."
   ]
  },
  {
   "cell_type": "code",
   "execution_count": null,
   "metadata": {},
   "outputs": [],
   "source": [
    "import random\n",
    "import string\n",
    "from dataclasses import dataclass, field\n",
    "\n",
    "def generate_id() -> str:\n",
    "    return \"\".join(random.choices(string.ascii_letters, k=25))\n",
    "\n",
    "@dataclass\n",
    "class Person:\n",
    "    name: str\n",
    "    address: str\n",
    "    active: bool = True\n",
    "    email_addresses: list[str] = field(default_factory=list)\n",
    "        \n",
    "person = Person(name=\"Alvin\", address=\"143 Singapore\")\n",
    "print(person)"
   ]
  },
  {
   "attachments": {},
   "cell_type": "markdown",
   "metadata": {},
   "source": [
    "What happens is that when dataclasses generates the class, it is going to call the function. We don't provide the type, we provide a function."
   ]
  },
  {
   "cell_type": "code",
   "execution_count": null,
   "metadata": {},
   "outputs": [],
   "source": [
    "import random\n",
    "import string\n",
    "from dataclasses import dataclass, field\n",
    "\n",
    "def generate_id() -> str:\n",
    "    return \"\".join(random.choices(string.ascii_letters, k=25))\n",
    "\n",
    "@dataclass\n",
    "class Person:\n",
    "    name: str\n",
    "    address: str\n",
    "    active: bool = True\n",
    "    email_addresses: list[str] = field(default_factory=list)\n",
    "    id: str = field(default_factory=generate_id)\n",
    "        \n",
    "person = Person(name=\"Alvin\", address=\"143 Singapore\")\n",
    "print(person)"
   ]
  },
  {
   "attachments": {},
   "cell_type": "markdown",
   "metadata": {},
   "source": [
    "With the default values, we can still set them as part of the initializer."
   ]
  },
  {
   "cell_type": "code",
   "execution_count": null,
   "metadata": {},
   "outputs": [],
   "source": [
    "import random\n",
    "import string\n",
    "from dataclasses import dataclass, field\n",
    "\n",
    "def generate_id() -> str:\n",
    "    return \"\".join(random.choices(string.ascii_letters, k=25))\n",
    "\n",
    "@dataclass\n",
    "class Person:\n",
    "    name: str\n",
    "    address: str\n",
    "    active: bool = True\n",
    "    email_addresses: list[str] = field(default_factory=list)\n",
    "    id: str = field(default_factory=generate_id)\n",
    "        \n",
    "person = Person(name=\"Alvin\", address=\"143 Singapore\", active=False, id=\"ABCD123\")\n",
    "print(person)"
   ]
  },
  {
   "attachments": {},
   "cell_type": "markdown",
   "metadata": {},
   "source": [
    "Let's say we don't want to let the `id` field to be initialized. What we can do is to add the `init` option to the field."
   ]
  },
  {
   "cell_type": "code",
   "execution_count": null,
   "metadata": {},
   "outputs": [],
   "source": [
    "import random\n",
    "import string\n",
    "from dataclasses import dataclass, field\n",
    "\n",
    "def generate_id() -> str:\n",
    "    return \"\".join(random.choices(string.ascii_letters, k=25))\n",
    "\n",
    "@dataclass\n",
    "class Person:\n",
    "    name: str\n",
    "    address: str\n",
    "    active: bool = True\n",
    "    email_addresses: list[str] = field(default_factory=list)\n",
    "    id: str = field(init=False, default_factory=generate_id)\n",
    "        \n",
    "person = Person(name=\"Alvin\", address=\"143 Singapore\", active=False, id=\"ABCD123\")\n",
    "print(person)"
   ]
  },
  {
   "attachments": {},
   "cell_type": "markdown",
   "metadata": {},
   "source": [
    "Sometimes, we would like to generate a value from the other instance variables during initialization. How do we do that? Because we cannot create a function for that as we don't have the values yet. That is where the `__post_init__` method comes into play.\n",
    "\n",
    "We can try to add a search_string that can be used later in case we would later like to search for persons like the name and the address for example.\n",
    "\n"
   ]
  },
  {
   "cell_type": "code",
   "execution_count": null,
   "metadata": {},
   "outputs": [],
   "source": [
    "import random\n",
    "import string\n",
    "from dataclasses import dataclass, field\n",
    "\n",
    "def generate_id() -> str:\n",
    "    return \"\".join(random.choices(string.ascii_letters, k=25))\n",
    "\n",
    "@dataclass\n",
    "class Person:\n",
    "    name: str\n",
    "    address: str\n",
    "    active: bool = True\n",
    "    email_addresses: list[str] = field(default_factory=list)\n",
    "    id: str = field(init=False, default_factory=generate_id)\n",
    "    search_string: str =field(init=False)\n",
    "    \n",
    "    def __post_init__(self) -> None:\n",
    "        self.search_string = f\"{self.name} {self.address}\"\n",
    "        \n",
    "person = Person(name=\"Alvin\", address=\"143 Singapore\", active=False)\n",
    "print(person)"
   ]
  },
  {
   "attachments": {},
   "cell_type": "markdown",
   "metadata": {},
   "source": [
    "What if we would want the search_string to be private. What we can do is to prefix underscore in front of the variable name. One underscore `_` means it's `private` while two underscores `__` means `protected`.\n"
   ]
  },
  {
   "cell_type": "code",
   "execution_count": null,
   "metadata": {},
   "outputs": [],
   "source": [
    "import random\n",
    "import string\n",
    "from dataclasses import dataclass, field\n",
    "\n",
    "def generate_id() -> str:\n",
    "    return \"\".join(random.choices(string.ascii_letters, k=25))\n",
    "\n",
    "@dataclass\n",
    "class Person:\n",
    "    name: str\n",
    "    address: str\n",
    "    active: bool = True\n",
    "    email_addresses: list[str] = field(default_factory=list)\n",
    "    id: str = field(init=False, default_factory=generate_id)\n",
    "    _search_string: str =field(init=False)\n",
    "    \n",
    "    def __post_init__(self) -> None:\n",
    "        self._search_string = f\"{self.name} {self.address}\"\n",
    "        \n",
    "person = Person(name=\"Alvin\", address=\"143 Singapore\", active=False)\n",
    "print(person)"
   ]
  },
  {
   "attachments": {},
   "cell_type": "markdown",
   "metadata": {},
   "source": [
    "In the above case, we might not need to print the `_search_string` as it is just a copy of the `name` and `address`. What we can do, is to add the `repr` option in the field and set it to `False`."
   ]
  },
  {
   "cell_type": "code",
   "execution_count": null,
   "metadata": {},
   "outputs": [],
   "source": [
    "import random\n",
    "import string\n",
    "from dataclasses import dataclass, field\n",
    "\n",
    "def generate_id() -> str:\n",
    "    return \"\".join(random.choices(string.ascii_letters, k=25))\n",
    "\n",
    "@dataclass\n",
    "class Person:\n",
    "    name: str\n",
    "    address: str\n",
    "    active: bool = True\n",
    "    email_addresses: list[str] = field(default_factory=list)\n",
    "    id: str = field(init=False, default_factory=generate_id)\n",
    "    _search_string: str =field(init=False, repr=False)\n",
    "    \n",
    "    def __post_init__(self) -> None:\n",
    "        self._search_string = f\"{self.name} {self.address}\"\n",
    "        \n",
    "person = Person(name=\"Alvin\", address=\"143 Singapore\", active=False)\n",
    "print(person)"
   ]
  },
  {
   "attachments": {},
   "cell_type": "markdown",
   "metadata": {},
   "source": [
    "What if we want our object to be frozen? What we can do is to add the `frozen` option to the dataclass decorator and set it to `True`."
   ]
  },
  {
   "cell_type": "code",
   "execution_count": null,
   "metadata": {},
   "outputs": [],
   "source": [
    "import random\n",
    "import string\n",
    "from dataclasses import dataclass, field\n",
    "\n",
    "def generate_id() -> str:\n",
    "    return \"\".join(random.choices(string.ascii_letters, k=25))\n",
    "\n",
    "@dataclass(frozen=True)\n",
    "class Person:\n",
    "    name: str\n",
    "    address: str\n",
    "    active: bool = True\n",
    "    email_addresses: list[str] = field(default_factory=list)\n",
    "    id: str = field(init=False, default_factory=generate_id)\n",
    "    _search_string: str =field(init=False, repr=False)\n",
    "            \n",
    "person = Person(name=\"Alvin\", address=\"143 Singapore\", active=False)\n",
    "person.name = \"Anumanth\"\n",
    "print(person)"
   ]
  },
  {
   "attachments": {},
   "cell_type": "markdown",
   "metadata": {},
   "source": [
    "If we assign a new value to person. It will create a new object to hold the new values and attributes and will be eligible for garbage collection."
   ]
  },
  {
   "cell_type": "code",
   "execution_count": null,
   "metadata": {},
   "outputs": [],
   "source": [
    "import random\n",
    "import string\n",
    "from dataclasses import dataclass, field\n",
    "\n",
    "def generate_id() -> str:\n",
    "    return \"\".join(random.choices(string.ascii_letters, k=25))\n",
    "\n",
    "@dataclass(frozen=True)\n",
    "class Person:\n",
    "    name: str\n",
    "    address: str\n",
    "    active: bool = True\n",
    "    email_addresses: list[str] = field(default_factory=list)\n",
    "    id: str = field(init=False, default_factory=generate_id)\n",
    "    _search_string: str =field(init=False, repr=False)\n",
    "            \n",
    "person = Person(name=\"Alvin\", address=\"143 Singapore\", active=False)\n",
    "person = Person(name=\"Anumanth\", address=\"143 Singapore\", active=False)\n",
    "print(person)"
   ]
  }
 ],
 "metadata": {
  "kernelspec": {
   "display_name": "Python 3",
   "language": "python",
   "name": "python3"
  },
  "language_info": {
   "codemirror_mode": {
    "name": "ipython",
    "version": 3
   },
   "file_extension": ".py",
   "mimetype": "text/x-python",
   "name": "python",
   "nbconvert_exporter": "python",
   "pygments_lexer": "ipython3",
   "version": "3.9.2"
  },
  "orig_nbformat": 4,
  "vscode": {
   "interpreter": {
    "hash": "81794d4967e6c3204c66dcd87b604927b115b27c00565d3d43f05ba2f3a2cb0d"
   }
  }
 },
 "nbformat": 4,
 "nbformat_minor": 2
}
