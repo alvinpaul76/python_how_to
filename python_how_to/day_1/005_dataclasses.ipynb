{
 "cells": [
  {
   "attachments": {},
   "cell_type": "markdown",
   "metadata": {},
   "source": [
    "# Dataclasses\n",
    "\n",
    "Python dataclasses are a relatively new feature introduced in Python 3.7 that provide a way to create classes that are primarily used to store data, with less boilerplate code than regular classes. Dataclasses can be thought of as a way to define classes that are similar to named tuples, but with added functionality and the ability to define methods.\n",
    "\n",
    "To create a dataclass, you simply use the `@dataclass` decorator and define the fields that the class should have."
   ]
  },
  {
   "attachments": {},
   "cell_type": "markdown",
   "metadata": {},
   "source": [
    "#### *Just a side note on decorators:*\n",
    "    \n",
    "A decorator is a special type of function that can be used to modify the behavior of another function or class. A decorator is defined using the `\"@\"` symbol followed by the name of the decorator function.\n",
    "\n",
    "Decorators allow you to add functionality to existing code without modifying the original code. This is particularly useful when you want to add functionality to a library or module that you don't have control over.\n",
    "\n",
    "Here's a simple example of a decorator that adds timing information to a function:"
   ]
  },
  {
   "cell_type": "code",
   "execution_count": 5,
   "metadata": {},
   "outputs": [
    {
     "name": "stdout",
     "output_type": "stream",
     "text": [
      "I am using the 'timer' decorator\n",
      "Execution time: 0.0 seconds\n"
     ]
    }
   ],
   "source": [
    "import time\n",
    "\n",
    "def timer(func):\n",
    "    def wrapper(*args, **kwargs):\n",
    "        start_time = time.time()\n",
    "        result = func(*args, **kwargs)\n",
    "        end_time = time.time()\n",
    "        print(f\"Execution time: {end_time - start_time} seconds\")\n",
    "        return result\n",
    "    return wrapper\n",
    "\n",
    "@timer\n",
    "def my_function():\n",
    "    print(\"I am using the 'timer' decorator\")\n",
    "\n",
    "my_function()"
   ]
  },
  {
   "attachments": {},
   "cell_type": "markdown",
   "metadata": {},
   "source": [
    "The `timer` function is a decorator that takes a function as an argument and returns a new function that wraps the original function with timing code. The `@timer` syntax is used to apply the decorator to the my_function function.\n",
    "\n",
    "When my_function is called, it will now include the timing information provided by the timer decorator."
   ]
  },
  {
   "attachments": {},
   "cell_type": "markdown",
   "metadata": {},
   "source": [
    "Let's go back to our topic."
   ]
  },
  {
   "cell_type": "code",
   "execution_count": null,
   "metadata": {},
   "outputs": [],
   "source": [
    "from dataclasses import dataclass\n",
    "\n",
    "@dataclass\n",
    "class Person:\n",
    "    name: str\n",
    "    age: int\n"
   ]
  },
  {
   "attachments": {},
   "cell_type": "markdown",
   "metadata": {},
   "source": [
    "This creates a Person class with two fields: name (a string) and age (an integer). The @dataclass decorator automatically generates a constructor and other methods like `__repr__` and `__eq__` based on the defined fields.\n",
    "\n",
    "This means that you can create instances of the Person class like this:\n",
    "> `p = Person(\"Alice\", 30)`\n",
    "\n",
    "Dataclasses also support default values for fields, as well as type annotations and other features that make working with data structures in Python more convenient."
   ]
  }
 ],
 "metadata": {
  "kernelspec": {
   "display_name": "Python 3",
   "language": "python",
   "name": "python3"
  },
  "language_info": {
   "codemirror_mode": {
    "name": "ipython",
    "version": 3
   },
   "file_extension": ".py",
   "mimetype": "text/x-python",
   "name": "python",
   "nbconvert_exporter": "python",
   "pygments_lexer": "ipython3",
   "version": "3.9.2"
  },
  "orig_nbformat": 4,
  "vscode": {
   "interpreter": {
    "hash": "81794d4967e6c3204c66dcd87b604927b115b27c00565d3d43f05ba2f3a2cb0d"
   }
  }
 },
 "nbformat": 4,
 "nbformat_minor": 2
}
