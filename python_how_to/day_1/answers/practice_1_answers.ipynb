{
 "cells": [
  {
   "attachments": {},
   "cell_type": "markdown",
   "metadata": {},
   "source": [
    "# Practice 1"
   ]
  },
  {
   "attachments": {},
   "cell_type": "markdown",
   "metadata": {},
   "source": [
    "Using a Set: One of the most efficient ways to remove duplicates from a list is to convert the list to a set, and then convert it back to a list.\n",
    "\n",
    "This approach works well if you don't care about preserving the original order of the list, and if the elements in the list are hashable."
   ]
  },
  {
   "cell_type": "code",
   "execution_count": null,
   "metadata": {},
   "outputs": [],
   "source": [
    "my_list = [2, 1,2,1,1,3,1,4,2,4,2,1,1,2]\n",
    "new_list = list(set(my_list))\n",
    "\n",
    "print(new_list)"
   ]
  },
  {
   "attachments": {},
   "cell_type": "markdown",
   "metadata": {},
   "source": [
    "Using a Dictionary: Another efficient approach is to use a dictionary to keep track of the unique elements in the list.\n",
    "\n",
    "This approach preserves the order of the original list, and works well for both hashable and unhashable elements.\n",
    "\n",
    "`dict.fromkeys(iterable, value=None)` creates a new dictionary with keys from an iterable and values set to a specified value. \n",
    "\n",
    "If the same key appears multiple times in the iterable, only the first occurrence of the key is used, and the corresponding \n",
    "value is set to the specified value."
   ]
  },
  {
   "cell_type": "code",
   "execution_count": null,
   "metadata": {},
   "outputs": [],
   "source": [
    "my_list = [2,1,2,1,1,3,1,4,2,4,2,1,1,2]\n",
    "new_list = list(dict.fromkeys(my_list))\n",
    "\n",
    "print(new_list)"
   ]
  },
  {
   "attachments": {},
   "cell_type": "markdown",
   "metadata": {},
   "source": [
    "Using List Comprehension: You can also use a list comprehension to create a new list without duplicates.\n",
    "\n",
    "This approach preserves the order of the original list and works for both hashable and unhashable elements, but may be slower than the previous approaches for larger lists."
   ]
  },
  {
   "cell_type": "code",
   "execution_count": null,
   "metadata": {},
   "outputs": [],
   "source": [
    "my_list = [2,1,2,1,1,3,1,4,2,4,2,1,1,2]\n",
    "new_list = []\n",
    "[new_list.append(x) for x in my_list if x not in new_list]\n",
    "\n",
    "print(new_list)"
   ]
  },
  {
   "attachments": {},
   "cell_type": "markdown",
   "metadata": {},
   "source": [
    "Using a loop to remove duplicates."
   ]
  },
  {
   "cell_type": "code",
   "execution_count": 11,
   "metadata": {},
   "outputs": [
    {
     "name": "stdout",
     "output_type": "stream",
     "text": [
      "[2, 1, 3, 4]\n"
     ]
    }
   ],
   "source": [
    "my_list = [2,1,2,1,1,3,1,4,2,4,2,1,1,2]\n",
    "new_list = []\n",
    "for x in my_list:\n",
    "    if x not in new_list:\n",
    "        new_list.append(x)\n",
    "\n",
    "print(new_list)\n"
   ]
  }
 ],
 "metadata": {
  "kernelspec": {
   "display_name": "python_how_to",
   "language": "python",
   "name": "python3"
  },
  "language_info": {
   "codemirror_mode": {
    "name": "ipython",
    "version": 3
   },
   "file_extension": ".py",
   "mimetype": "text/x-python",
   "name": "python",
   "nbconvert_exporter": "python",
   "pygments_lexer": "ipython3",
   "version": "3.10.7"
  },
  "orig_nbformat": 4
 },
 "nbformat": 4,
 "nbformat_minor": 2
}
