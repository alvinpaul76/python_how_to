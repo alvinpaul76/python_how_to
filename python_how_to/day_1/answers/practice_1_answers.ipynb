{
 "cells": [
  {
   "attachments": {},
   "cell_type": "markdown",
   "metadata": {},
   "source": [
    "# Practice 1"
   ]
  },
  {
   "attachments": {},
   "cell_type": "markdown",
   "metadata": {},
   "source": [
    "Using the `keys()` and `values()` methods:"
   ]
  },
  {
   "cell_type": "code",
   "execution_count": null,
   "metadata": {},
   "outputs": [],
   "source": [
    "my_dict = {\"one\": 1, \"two\": 2, \"three\": 3}\n",
    "print(f\"This is my dictionary:\\n{my_dict}\\n\")\n",
    "\n",
    "keys_list = list(my_dict.keys())\n",
    "print(f\"Below are the keys derived from my dictionary:\\n{keys_list}\\n\")\n",
    "\n",
    "values_list = list(my_dict.values())\n",
    "print(f\"Below are the values derived from my dictionary:\\n{values_list}\\n\")"
   ]
  },
  {
   "attachments": {},
   "cell_type": "markdown",
   "metadata": {},
   "source": [
    "Using the `zip()` function:"
   ]
  },
  {
   "cell_type": "code",
   "execution_count": null,
   "metadata": {},
   "outputs": [],
   "source": [
    "my_dict = {\"one\": 1, \"two\": 2, \"three\": 3}\n",
    "print(f\"This is my dictionary:\\n{my_dict}\\n\")\n",
    "\n",
    "keys_list, values_list = zip(*my_dict.items())\n",
    "\n",
    "print(keys_list, values_list)\n",
    "\n",
    "# take note that zip returns a tuple thus we need to do a type conversion/casting to list\n",
    "print(f\"Below are the keys derived from my dictionary:\\n{list(keys_list)}\\n\")\n",
    "print(f\"Below are the values derived from my dictionary:\\n{list(values_list)}\\n\")"
   ]
  },
  {
   "attachments": {},
   "cell_type": "markdown",
   "metadata": {},
   "source": [
    "In terms of efficiency, using the items() method with a for loop is the most efficient way to extract the keys and values of a dictionary into separate lists, as it only requires a single iteration over the dictionary."
   ]
  },
  {
   "cell_type": "code",
   "execution_count": null,
   "metadata": {},
   "outputs": [],
   "source": [
    "my_dict = {\"one\": 1, \"two\": 2, \"three\": 3}\n",
    "print(f\"This is my dictionary:\\n{my_dict}\\n\")\n",
    "\n",
    "# Initialize empty lists for keys and values\n",
    "keys_list = []\n",
    "values_list = []\n",
    "\n",
    "# Extract keys and values using a for loop\n",
    "for key, value in my_dict.items():\n",
    "    keys_list.append(key)\n",
    "    values_list.append(value)\n",
    "\n",
    "print(f\"Below are the keys derived from my dictionary:\\n{keys_list}\\n\")\n",
    "print(f\"Below are the values derived from my dictionary:\\n{values_list}\\n\")"
   ]
  }
 ],
 "metadata": {
  "kernelspec": {
   "display_name": "Python 3",
   "language": "python",
   "name": "python3"
  },
  "language_info": {
   "codemirror_mode": {
    "name": "ipython",
    "version": 3
   },
   "file_extension": ".py",
   "mimetype": "text/x-python",
   "name": "python",
   "nbconvert_exporter": "python",
   "pygments_lexer": "ipython3",
   "version": "3.10.7"
  },
  "orig_nbformat": 4,
  "vscode": {
   "interpreter": {
    "hash": "81794d4967e6c3204c66dcd87b604927b115b27c00565d3d43f05ba2f3a2cb0d"
   }
  }
 },
 "nbformat": 4,
 "nbformat_minor": 2
}
