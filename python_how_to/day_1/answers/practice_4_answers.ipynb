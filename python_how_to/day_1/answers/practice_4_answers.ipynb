{
 "cells": [
  {
   "cell_type": "code",
   "execution_count": null,
   "metadata": {},
   "outputs": [],
   "source": [
    "# Practice 4"
   ]
  },
  {
   "attachments": {},
   "cell_type": "markdown",
   "metadata": {},
   "source": [
    "Using a normal class:"
   ]
  },
  {
   "cell_type": "code",
   "execution_count": 3,
   "metadata": {},
   "outputs": [
    {
     "name": "stdout",
     "output_type": "stream",
     "text": [
      "\n",
      "Name:  E7876\n",
      "ID:  ADAMS\n",
      "Salary:  50000\n",
      "Department:  ACCOUNTING\n",
      "----------------------\n",
      "\n",
      "Name:  E7499\n",
      "ID:  JONES\n",
      "Salary:  45000\n",
      "Department:  RESEARCH\n",
      "----------------------\n",
      "\n",
      "Name:  E7900\n",
      "ID:  MARTIN\n",
      "Salary:  50000\n",
      "Department:  SALES\n",
      "----------------------\n",
      "\n",
      "Name:  E7698\n",
      "ID:  SMITH\n",
      "Salary:  55000\n",
      "Department:  OPERATIONS\n",
      "----------------------\n"
     ]
    }
   ],
   "source": [
    "class Employee:\n",
    "    def __init__(self, id, name, salary, department):\n",
    "        self.id = id\n",
    "        self.name = name\n",
    "        self.salary = salary\n",
    "        self.department = department\n",
    "\n",
    "    def calculate_salary(self):\n",
    "        return self.salary * 0.9\n",
    "\n",
    "    def assign_department(self, department):\n",
    "        self.department = department\n",
    "\n",
    "    def print_employee_details(self):\n",
    "        print(\"\\nName: \", self.name)\n",
    "        print(\"ID: \", self.id)\n",
    "        print(\"Salary: \", self.salary)\n",
    "        print(\"Department: \", self.department)\n",
    "        print(\"----------------------\")\n",
    "        \n",
    "employee1 = Employee(\"ADAMS\", \"E7876\", 50000, \"ACCOUNTING\")\n",
    "employee2 = Employee(\"JONES\", \"E7499\", 45000, \"RESEARCH\")\n",
    "employee3 = Employee(\"MARTIN\", \"E7900\", 50000, \"SALES\")\n",
    "employee4 = Employee(\"SMITH\", \"E7698\", 55000, \"OPERATIONS\")\n",
    "\n",
    "employee1.print_employee_details()\n",
    "employee2.print_employee_details()\n",
    "employee3.print_employee_details()\n",
    "employee4.print_employee_details()"
   ]
  },
  {
   "attachments": {},
   "cell_type": "markdown",
   "metadata": {},
   "source": [
    "Using a dataclass:"
   ]
  },
  {
   "cell_type": "code",
   "execution_count": 6,
   "metadata": {},
   "outputs": [
    {
     "name": "stdout",
     "output_type": "stream",
     "text": [
      "\n",
      "Name:  E7876\n",
      "ID:  ADAMS\n",
      "Salary:  50000\n",
      "Department:  ACCOUNTING\n",
      "----------------------\n",
      "\n",
      "Name:  E7499\n",
      "ID:  JONES\n",
      "Salary:  45000\n",
      "Department:  RESEARCH\n",
      "----------------------\n",
      "\n",
      "Name:  E7900\n",
      "ID:  MARTIN\n",
      "Salary:  50000\n",
      "Department:  SALES\n",
      "----------------------\n",
      "\n",
      "Name:  E7698\n",
      "ID:  SMITH\n",
      "Salary:  55000\n",
      "Department:  OPERATIONS\n",
      "----------------------\n"
     ]
    }
   ],
   "source": [
    "from dataclasses import dataclass\n",
    "\n",
    "@dataclass\n",
    "class Employee:\n",
    "    id: int\n",
    "    name: str\n",
    "    salary: float\n",
    "    department: str\n",
    "\n",
    "    def calculate_salary(self):\n",
    "        return self.salary * 0.9  # Deducting 10% for Tax\n",
    "\n",
    "    def assign_department(self, department: str):\n",
    "        self.department = department\n",
    "\n",
    "    def print_employee_details(self):\n",
    "        print(\"\\nName: \", self.name)\n",
    "        print(\"ID: \", self.id)\n",
    "        print(\"Salary: \", self.salary)\n",
    "        print(\"Department: \", self.department)\n",
    "        print(\"----------------------\")\n",
    "        \n",
    "employee1 = Employee(\"ADAMS\", \"E7876\", 50000, \"ACCOUNTING\")\n",
    "employee2 = Employee(\"JONES\", \"E7499\", 45000, \"RESEARCH\")\n",
    "employee3 = Employee(\"MARTIN\", \"E7900\", 50000, \"SALES\")\n",
    "employee4 = Employee(\"SMITH\", \"E7698\", 55000, \"OPERATIONS\")\n",
    "\n",
    "employee1.print_employee_details()\n",
    "employee2.print_employee_details()\n",
    "employee3.print_employee_details()\n",
    "employee4.print_employee_details()"
   ]
  }
 ],
 "metadata": {
  "kernelspec": {
   "display_name": "Python 3",
   "language": "python",
   "name": "python3"
  },
  "language_info": {
   "codemirror_mode": {
    "name": "ipython",
    "version": 3
   },
   "file_extension": ".py",
   "mimetype": "text/x-python",
   "name": "python",
   "nbconvert_exporter": "python",
   "pygments_lexer": "ipython3",
   "version": "3.9.2"
  },
  "orig_nbformat": 4,
  "vscode": {
   "interpreter": {
    "hash": "81794d4967e6c3204c66dcd87b604927b115b27c00565d3d43f05ba2f3a2cb0d"
   }
  }
 },
 "nbformat": 4,
 "nbformat_minor": 2
}
