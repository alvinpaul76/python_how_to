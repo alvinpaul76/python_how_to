{
 "cells": [
  {
   "attachments": {},
   "cell_type": "markdown",
   "metadata": {},
   "source": [
    "## Practice 4\n",
    "\n",
    "Write a Python class Employee with the following attributes:\n",
    "- id\n",
    "- name\n",
    "- salary\n",
    "- department\n",
    "\n",
    "and the following methods:\n",
    "- calculate_salary (deducting 10% for Tax)\n",
    "- assign_department\n",
    "- print_employee_details"
   ]
  },
  {
   "attachments": {},
   "cell_type": "markdown",
   "metadata": {},
   "source": [
    "1. Using a normal class:"
   ]
  },
  {
   "cell_type": "code",
   "execution_count": null,
   "metadata": {},
   "outputs": [],
   "source": [
    "class Employee:\n",
    "    def __init__(self, id, name, salary, department):\n",
    "        self.id = id\n",
    "        self.name = name\n",
    "        self.salary = salary\n",
    "        self.department = department\n",
    "\n",
    "    def calculate_salary(self):\n",
    "        return format(self.salary * 0.9, '.2f')\n",
    "\n",
    "    def assign_department(self, department):\n",
    "        self.department = department\n",
    "\n",
    "    def print_employee_details(self):\n",
    "        print(f\"\\nName: {self.name}\")\n",
    "        print(f\"ID: {self.id}\")\n",
    "        print(f\"Salary: {self.calculate_salary()}\")\n",
    "        print(f\"Department: {self.department}\")\n",
    "        print(\"----------------------\")\n",
    "        \n",
    "employee1 = Employee(\"ADAMS\", \"E7876\", 50000, \"ACCOUNTING\")\n",
    "employee2 = Employee(\"JONES\", \"E7499\", 45000, \"RESEARCH\")\n",
    "employee3 = Employee(\"MARTIN\", \"E7900\", 50000, \"SALES\")\n",
    "employee4 = Employee(\"SMITH\", \"E7698\", 55000, \"OPERATIONS\")\n",
    "\n",
    "employee1.print_employee_details()\n",
    "employee2.print_employee_details()\n",
    "employee3.print_employee_details()\n",
    "employee4.print_employee_details()"
   ]
  },
  {
   "attachments": {},
   "cell_type": "markdown",
   "metadata": {},
   "source": [
    "2. Using a dataclass:"
   ]
  },
  {
   "cell_type": "code",
   "execution_count": null,
   "metadata": {},
   "outputs": [],
   "source": [
    "from dataclasses import dataclass\n",
    "\n",
    "@dataclass\n",
    "class Employee:\n",
    "    id: int\n",
    "    name: str\n",
    "    salary: float\n",
    "    department: str\n",
    "\n",
    "    def calculate_salary(self):\n",
    "        return format(self.salary * 0.9, '.2f')\n",
    "\n",
    "    def assign_department(self, department: str):\n",
    "        self.department = department\n",
    "\n",
    "    def print_employee_details(self):\n",
    "        print(f\"\\nName: {self.name}\")\n",
    "        print(f\"ID: {self.id}\")\n",
    "        print(f\"Salary: {self.calculate_salary()}\")\n",
    "        print(f\"Department: {self.department}\")\n",
    "        print(\"----------------------\")\n",
    "        \n",
    "employee1 = Employee(\"ADAMS\", \"E7876\", 50000, \"ACCOUNTING\")\n",
    "employee2 = Employee(\"JONES\", \"E7499\", 45000, \"RESEARCH\")\n",
    "employee3 = Employee(\"MARTIN\", \"E7900\", 50000, \"SALES\")\n",
    "employee4 = Employee(\"SMITH\", \"E7698\", 55000, \"OPERATIONS\")\n",
    "\n",
    "employee1.print_employee_details()\n",
    "employee2.print_employee_details()\n",
    "employee3.print_employee_details()\n",
    "employee4.print_employee_details()"
   ]
  }
 ],
 "metadata": {
  "kernelspec": {
   "display_name": "Python 3",
   "language": "python",
   "name": "python3"
  },
  "language_info": {
   "codemirror_mode": {
    "name": "ipython",
    "version": 3
   },
   "file_extension": ".py",
   "mimetype": "text/x-python",
   "name": "python",
   "nbconvert_exporter": "python",
   "pygments_lexer": "ipython3",
   "version": "3.10.7"
  },
  "orig_nbformat": 4,
  "vscode": {
   "interpreter": {
    "hash": "81794d4967e6c3204c66dcd87b604927b115b27c00565d3d43f05ba2f3a2cb0d"
   }
  }
 },
 "nbformat": 4,
 "nbformat_minor": 2
}
