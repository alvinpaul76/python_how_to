{
 "cells": [
  {
   "attachments": {},
   "cell_type": "markdown",
   "metadata": {},
   "source": [
    "## Practice 3\n",
    "\n",
    "I have the following list:\n",
    "\n",
    "> `[2,1,2,1,1,3,1,4,2,4,2,1,1,2]`\n",
    "\n",
    "Write a Python code to remove all the numbers below 3."
   ]
  },
  {
   "attachments": {},
   "cell_type": "markdown",
   "metadata": {},
   "source": [
    "1. The most efficient way to remove all occurrences of a specific value from a list in Python is to use a list comprehension. Here's how you can remove all the numbers below 3 from your list:"
   ]
  },
  {
   "cell_type": "code",
   "execution_count": null,
   "metadata": {},
   "outputs": [],
   "source": [
    "my_list = [2, 1,2,1,1,3,1,4,2,4,2,1,1,2]\n",
    "new_list = [x for x in my_list if x >= 3]\n",
    "\n",
    "print(new_list)"
   ]
  },
  {
   "attachments": {},
   "cell_type": "markdown",
   "metadata": {},
   "source": [
    "2. Using a loop to remove all numbers below 3. \n",
    "\n",
    "   This loop iterates over the elements of my_list and removes any elements that are equal to 1. The resulting my_list will be [2, 3]. However, modifying a list in place using del inside a loop may not be as efficient as using a list comprehension for larger lists."
   ]
  },
  {
   "cell_type": "code",
   "execution_count": null,
   "metadata": {},
   "outputs": [],
   "source": [
    "my_list = [2, 1,2,1,1,3,1,4,2,4,2,1,1,2]\n",
    "i = 0\n",
    "while i < len(my_list):\n",
    "    if my_list[i] < 3:\n",
    "        del my_list[i]\n",
    "    else:\n",
    "        i += 1\n",
    "\n",
    "print(my_list)"
   ]
  }
 ],
 "metadata": {
  "kernelspec": {
   "display_name": "python_how_to",
   "language": "python",
   "name": "python3"
  },
  "language_info": {
   "codemirror_mode": {
    "name": "ipython",
    "version": 3
   },
   "file_extension": ".py",
   "mimetype": "text/x-python",
   "name": "python",
   "nbconvert_exporter": "python",
   "pygments_lexer": "ipython3",
   "version": "3.10.7"
  },
  "orig_nbformat": 4
 },
 "nbformat": 4,
 "nbformat_minor": 2
}
