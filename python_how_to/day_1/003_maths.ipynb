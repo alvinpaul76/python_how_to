{
 "cells": [
  {
   "attachments": {},
   "cell_type": "markdown",
   "metadata": {},
   "source": [
    "# MATH MODULE"
   ]
  },
  {
   "cell_type": "code",
   "execution_count": 1,
   "metadata": {},
   "outputs": [
    {
     "name": "stdout",
     "output_type": "stream",
     "text": [
      "4\n",
      "3\n"
     ]
    }
   ],
   "source": [
    "from math import ceil, floor\n",
    "\n",
    "x = 3.1415\n",
    "\n",
    "# ceil: Return the ceiling of x, the smallest integer greater than or equal to x. If x is not a float, delegates to x.__ceil__, which should return an Integral value.\n",
    "print(ceil(x))\n",
    "\n",
    "# floor: Return the floor of x, the largest integer less than or equal to x. If x is not a float, delegates to x.__floor__, which should return an Integral value.\n",
    "print(floor(x))"
   ]
  },
  {
   "cell_type": "code",
   "execution_count": null,
   "metadata": {},
   "outputs": [],
   "source": [
    "from math import comb, perm\n",
    "\n",
    "number_of_people = 10 # k\n",
    "number_of_seats = 5 # n\n",
    "\n",
    "# comb: Return the number of ways to choose k items from n items without repetition and without order.\n",
    "print(f\"If there are {number_of_people} people, the number of combination of people that can seat on our {number_of_seats} seats without repetition without order is {comb(number_of_people, number_of_seats)}\")\n",
    "\n",
    "# perm: Return the number of ways to choose k items from n items without repetition and with order.\n",
    "print(f\"If there are {number_of_people} people, the number of combination of people that can seat on our {number_of_seats} seats without repetition and with order is {perm(number_of_people, number_of_seats)}\")"
   ]
  },
  {
   "cell_type": "code",
   "execution_count": null,
   "metadata": {},
   "outputs": [],
   "source": [
    "from math import copysign\n",
    "\n",
    "# copysign: Return a float with the magnitude (absolute value) of x but the sign of y. On platforms that support signed.\n",
    "speed = 10 # meters/second\n",
    "distance_moved = -3 # meters\n",
    "velocity = copysign(speed, distance_moved)\n",
    "\n",
    "print(velocity)\n"
   ]
  },
  {
   "cell_type": "code",
   "execution_count": null,
   "metadata": {},
   "outputs": [],
   "source": [
    "from math import factorial\n",
    "\n",
    "# factorial: Return n factorial as an integer. Raises ValueError if n is not integral or is negative.\n",
    "x = factorial(5) # 1*2*3*4*5\n",
    "\n",
    "print(x)"
   ]
  },
  {
   "cell_type": "code",
   "execution_count": null,
   "metadata": {},
   "outputs": [],
   "source": [
    "from math import fsum\n",
    "\n",
    "# fsum: Return an accurate floating point sum of values in the iterable. Avoids loss of precision by tracking multiple intermediate partial sums:\n",
    "\n",
    "my_list = [.2, .2, .2, .2, .2, .2, .2, .2, .2]\n",
    "\n",
    "print(sum(my_list))\n",
    "print(fsum(my_list))"
   ]
  },
  {
   "attachments": {},
   "cell_type": "markdown",
   "metadata": {},
   "source": [
    "The algorithm’s accuracy depends on IEEE-754 arithmetic guarantees and the typical case where the rounding mode is half-even. On some non-Windows builds, the underlying C library uses extended precision addition and may occasionally double-round an intermediate sum causing it to be off in its least significant bit.\n",
    "\n",
    "For further discussion and two alternative approaches, see the ASPN cookbook recipes for accurate floating point summation (https://code.activestate.com/recipes/393090/)\n",
    "\n",
    "Suggestion is to use fsum method for your summations."
   ]
  },
  {
   "cell_type": "code",
   "execution_count": null,
   "metadata": {},
   "outputs": [],
   "source": [
    "from math import gcd, lcm\n",
    "\n",
    "# gcd: Return the greatest common divisor of the specified integer arguments. \n",
    "# If any of the arguments is nonzero, then the returned value is the largest \n",
    "# positive integer that is a divisor of all arguments. If all arguments are zero, \n",
    "# then the returned value is 0. gcd() without arguments returns 0.\n",
    "\n",
    "x = gcd(36, 66, 12)\n",
    "print(f\"The greatest common divisor is equal to {x}\")\n",
    "\n",
    "# lcm: Return the least common multiple of the specified integer arguments. \n",
    "# If all arguments are nonzero, then the returned value is the smallest positive \n",
    "# integer that is a multiple of all arguments. If any of the arguments is zero, \n",
    "# then the returned value is 0. lcm() without arguments returns 1.\n",
    "\n",
    "x = lcm(36, 66, 12)\n",
    "print(f\"The least common multiple is equal to {x}\")\n"
   ]
  },
  {
   "cell_type": "code",
   "execution_count": null,
   "metadata": {},
   "outputs": [],
   "source": [
    "from math import inf, isinf, nan, isnan, isfinite\n",
    "\n",
    "test_num = 9\n",
    "\n",
    "# isinf: Return True if x is a positive or negative infinity, and False otherwise.\n",
    "num = inf\n",
    "print(isinf(num))\n",
    "print(isinf(test_num))\n",
    "\n",
    "# isnan: Return True if x is a NaN (not a number), and False otherwise\n",
    "num = nan\n",
    "print(isnan(num))\n",
    "print(isnan(test_num))\n",
    "\n",
    "# isfinite: Return True if x is neither an infinity nor a NaN, and False otherwise. \n",
    "# (Note that 0.0 is considered finite.)\n",
    "print(isfinite(test_num))\n",
    "print(isfinite(0.0))\n"
   ]
  },
  {
   "cell_type": "code",
   "execution_count": null,
   "metadata": {},
   "outputs": [],
   "source": [
    "from math import tau, e, pi\n",
    "\n",
    "# The mathematical constant τ = 6.283185…, to available precision. \n",
    "# Tau is a circle constant equal to 2π, the ratio of a circle’s \n",
    "# circumference to its radius\n",
    "print(f\"tau is equal to {tau}\")\n",
    "\n",
    "# The mathematical constant e = 2.718281…, to available precision.\n",
    "print(f\"e i equal to {e}\")\n",
    "\n",
    "# The mathematical constant π = 3.141592…, to available precision.\n",
    "print(f\"pi is equal to {pi}\")"
   ]
  }
 ],
 "metadata": {
  "kernelspec": {
   "display_name": "how-to",
   "language": "python",
   "name": "python3"
  },
  "language_info": {
   "codemirror_mode": {
    "name": "ipython",
    "version": 3
   },
   "file_extension": ".py",
   "mimetype": "text/x-python",
   "name": "python",
   "nbconvert_exporter": "python",
   "pygments_lexer": "ipython3",
   "version": "3.10.7"
  },
  "orig_nbformat": 4
 },
 "nbformat": 4,
 "nbformat_minor": 2
}
