{
 "cells": [
  {
   "attachments": {},
   "cell_type": "markdown",
   "metadata": {},
   "source": [
    "# Object Oriented Programming\n",
    "\n",
    "Python is a versatile programming language that supports various programming styles, including object-oriented programming (OOP) through the use of objects and classes.\n",
    "\n",
    "An object is any entity that has attributes and behaviors. For example, a bird is an object. It has\n",
    "\n",
    "- attributes - name, age, color, etc.\n",
    "- behavior - flying, singing, etc.\n",
    "\n",
    "Similarly, a class is a blueprint for that object."
   ]
  },
  {
   "cell_type": "code",
   "execution_count": null,
   "metadata": {},
   "outputs": [],
   "source": [
    "class Bird:\n",
    "    # attributes\n",
    "    name = \"\"\n",
    "    age = 0\n",
    "    color = \"\"\n",
    "        \n",
    "# create a bird object\n",
    "bird1 = Bird()\n",
    "bird1.name = \"Big Bird\"\n",
    "bird1.age = 10\n",
    "bird1.color = \"Yellow\"\n",
    "\n",
    "# create another bird object\n",
    "bird2 = Bird()\n",
    "bird2.name = \"Donald Duck\"\n",
    "bird2.age = 12\n",
    "bird2.color = \"White\"\n",
    "\n",
    "print(f\"{bird1.name} is {bird1.age} years old and is color {bird1.color}\")\n",
    "print(f\"{bird2.name} is {bird2.age} years old and is color {bird2.color}\")"
   ]
  },
  {
   "attachments": {},
   "cell_type": "markdown",
   "metadata": {},
   "source": [
    "In the above example, we created a class with the name `Bird` with three attributes: name, age and color.\n",
    "\n",
    "Then, we create instances of the `Bird` class. Here, `bird1` and `bird2` are references (value) to our new objects.\n",
    "\n",
    "We then accessed and assigned different values to the instance attributes using the objects name and the `.` notation."
   ]
  },
  {
   "attachments": {},
   "cell_type": "markdown",
   "metadata": {},
   "source": [
    "#### Python Inheritance\n",
    "\n",
    "Inheritance is a way of creating a new class for using details of an existing class without modifying it.\n",
    "\n",
    "The newly formed class is a derived class (or child class). Similarly, the existing class is a base class (or parent class)."
   ]
  },
  {
   "cell_type": "code",
   "execution_count": null,
   "metadata": {},
   "outputs": [],
   "source": [
    "# base class\n",
    "class Bird:\n",
    "    # attributes\n",
    "    name = \"\"\n",
    "    age = 0\n",
    "    color = \"\"\n",
    "\n",
    "class Duck(Bird):\n",
    "    def quack(self):\n",
    "        print(f\"I am {self.name}. I am a duck and I can quack!\\n\")\n",
    "\n",
    "class Parrot(Bird):\n",
    "    def talk(self):\n",
    "        print(f\"I am {self.name}. I am a parrot and I can talk!\\n\")\n",
    "\n",
    "duck1 = Duck()\n",
    "duck1.name = \"Donald\"\n",
    "duck1.age = 12\n",
    "duck1.color = \"White\"\n",
    "\n",
    "print(f\"{duck1.name} is {duck1.age} years old and is color {duck1.color}\")\n",
    "duck1.quack()\n",
    "\n",
    "parrot1 = Parrot()\n",
    "parrot1.name = \"Iago\"\n",
    "parrot1.age = 10\n",
    "parrot1.color = \"Blue\"\n",
    "\n",
    "print(f\"{parrot1.name} is {parrot1.age} years old and is color {parrot1.color}\")\n",
    "parrot1.talk()\n"
   ]
  },
  {
   "attachments": {},
   "cell_type": "markdown",
   "metadata": {},
   "source": [
    "#### Python Encapsulation\n",
    "\n",
    "Encapsulation is one of the key features of object-oriented programming. Encapsulation refers to the bundling of attributes and methods inside a single class.\n",
    "\n",
    "It prevents outer classes from accessing and changing attributes and methods of a class. This also helps to achieve data hiding.\n",
    "\n",
    "In Python, we denote private attributes using underscore as the prefix i.e single `_` or double `__`.\n",
    "\n",
    "Difference between `_` and `__`:\n",
    "\n",
    "https://medium.com/python-features/naming-conventions-with-underscores-in-python-791251ac7097"
   ]
  },
  {
   "cell_type": "code",
   "execution_count": null,
   "metadata": {},
   "outputs": [],
   "source": [
    "class Computer:\n",
    "    \n",
    "    def __init__(self):\n",
    "        self.__maxprice = 900\n",
    "\n",
    "    def sell(self):\n",
    "        print(\"Selling Price: {}\".format(self.__maxprice))\n",
    "\n",
    "    def setMaxPrice(self, price):\n",
    "        self.__maxprice = price\n",
    "\n",
    "c = Computer()\n",
    "c.sell()\n",
    "\n",
    "# change the price\n",
    "c.__maxprice = 1000\n",
    "c.sell()\n",
    "\n",
    "# using setter function\n",
    "c.setMaxPrice(1000)\n",
    "c.sell()"
   ]
  },
  {
   "attachments": {},
   "cell_type": "markdown",
   "metadata": {},
   "source": [
    "In the above program, we defined a Computer class.\n",
    "\n",
    "We used `__init__()` method to store the maximum selling price of Computer.\n",
    "\n",
    "We tried to modify the value of `__maxprice` outside of the class. However, since `__maxprice` is a private variable, this modification is not seen on the output.\n",
    "\n",
    "As shown, to change the value, we have to use a setter function i.e `setMaxPrice()` which takes price as a parameter."
   ]
  },
  {
   "attachments": {},
   "cell_type": "markdown",
   "metadata": {},
   "source": [
    "#### Polymorphism\n",
    "\n",
    "Polymorphism is another important concept of object-oriented programming. It simply means more than one form.\n",
    "\n",
    "That is, the same entity (method or operator or object) can perform different operations in different scenarios."
   ]
  },
  {
   "cell_type": "code",
   "execution_count": null,
   "metadata": {},
   "outputs": [],
   "source": [
    "class Polygon:\n",
    "    # method to render a shape\n",
    "    def render(self):\n",
    "        print(\"Rendering Polygon...\")\n",
    "\n",
    "class Square(Polygon):\n",
    "    # renders Square\n",
    "    def render(self):\n",
    "        print(\"Rendering Square...\")\n",
    "\n",
    "class Circle(Polygon):\n",
    "    # renders circle\n",
    "    def render(self):\n",
    "        print(\"Rendering Circle...\")\n",
    "    \n",
    "# create an object of Square\n",
    "s1 = Square()\n",
    "s1.render()\n",
    "\n",
    "# create an object of Circle\n",
    "c1 = Circle()\n",
    "c1.render()"
   ]
  },
  {
   "attachments": {},
   "cell_type": "markdown",
   "metadata": {},
   "source": [
    "In the above example, we have created a superclass: `Polygon` and two subclasses: `Square` and `Circle`. Notice the use of the `render()` method.\n",
    "\n",
    "The main purpose of the `render()` method is to render the shape. However, the process of rendering a square is different from the process of rendering a circle.\n",
    "\n",
    "Hence, the `render()` method behaves differently in different classes. Or, we can say `render()` is polymorphic."
   ]
  }
 ],
 "metadata": {
  "kernelspec": {
   "display_name": "Python 3",
   "language": "python",
   "name": "python3"
  },
  "language_info": {
   "codemirror_mode": {
    "name": "ipython",
    "version": 3
   },
   "file_extension": ".py",
   "mimetype": "text/x-python",
   "name": "python",
   "nbconvert_exporter": "python",
   "pygments_lexer": "ipython3",
   "version": "3.10.7"
  },
  "orig_nbformat": 4,
  "vscode": {
   "interpreter": {
    "hash": "81794d4967e6c3204c66dcd87b604927b115b27c00565d3d43f05ba2f3a2cb0d"
   }
  }
 },
 "nbformat": 4,
 "nbformat_minor": 2
}
