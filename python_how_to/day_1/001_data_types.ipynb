{
 "cells": [
  {
   "attachments": {},
   "cell_type": "markdown",
   "metadata": {},
   "source": [
    "# DATA TYPES"
   ]
  },
  {
   "cell_type": "code",
   "execution_count": null,
   "metadata": {},
   "outputs": [],
   "source": [
    "# Variables\n",
    "\n",
    "my_string = \"Hello!\"\n",
    "my_int = 2\n",
    "my_float = 3.1415\n",
    "my_boolean = False\n",
    "\n",
    "print(my_string)\n",
    "print(my_int)\n",
    "print(my_float)\n",
    "print(my_boolean)\n",
    "print(not my_boolean)\n",
    "\n",
    "my_result = my_int * my_float\n",
    "print(my_result)\n",
    "\n",
    "# String concatenation\n",
    "print(\"The result of \" + str(my_int) + \" multiplied by \" + str(my_float) + \" is \" + str(my_result))\n",
    "print(\"The result of\", my_int, \"multiplied by\", my_float, \"is\",my_result)\n",
    "\n",
    "# %-Formatting\n",
    "print(\"The result of %s multiplied by %s is %s\" %(my_int, my_float, my_result))\n",
    "\n",
    "# join\n",
    "print(\" \".join([\"The result of\", str(my_int), \"multiplied by\", str(my_float),  \"is\",  str(my_result)]))\n",
    "\n",
    "# F-Strings\n",
    "print(f\"The result of {my_int} multiplied by {my_float} is {my_result}\")\n"
   ]
  },
  {
   "attachments": {},
   "cell_type": "markdown",
   "metadata": {},
   "source": [
    "#### Strings (`str`): a sequence of characters"
   ]
  },
  {
   "cell_type": "code",
   "execution_count": null,
   "metadata": {},
   "outputs": [],
   "source": [
    "print('I am a string')\n",
    "print(\"I am a string\")\n",
    "print(\"I'm a string\")\n",
    "print('I am a \"string\"')\n",
    "print(\"I'm a \\\"string\\\"\")\n",
    "print(\"I'm\" + ' a \"string\"')"
   ]
  },
  {
   "attachments": {},
   "cell_type": "markdown",
   "metadata": {},
   "source": [
    "#### Integers (`int`): whole numbers without a decimal point"
   ]
  },
  {
   "cell_type": "code",
   "execution_count": null,
   "metadata": {},
   "outputs": [],
   "source": [
    "print(1)\n",
    "print(2)\n",
    "print(1+2)\n",
    "print(2*2)\n",
    "print(3/3)\n",
    "print(2-1)"
   ]
  },
  {
   "attachments": {},
   "cell_type": "markdown",
   "metadata": {},
   "source": [
    "#### Floats (`float`): numbers with a decimal point\n"
   ]
  },
  {
   "cell_type": "code",
   "execution_count": null,
   "metadata": {},
   "outputs": [],
   "source": [
    "print(1.234)\n",
    "print(3.14159265359)\n",
    "print(4.0)\n",
    "print(2.2+1.1)\n",
    "print(5.55-1.11)\n",
    "print(3.1*1.2)\n",
    "print(4.4/2.2)"
   ]
  },
  {
   "attachments": {},
   "cell_type": "markdown",
   "metadata": {},
   "source": [
    "## Why are floating-point calculations inaccurate?\n",
    "\n",
    "The floating-point calculations are inaccurate because mainly the rationals are approximating that cannot be represented finitely in base 2 and in general they are approximating numbers which may not be representable in finitely many digits in any base.\n",
    "\n",
    "Let’s say we have a fraction:\n",
    "> `5/3`\n",
    "\n",
    "We can write the above in base 10 as:\n",
    "> `1.666...`<br>\n",
    "> `1.666`<br>\n",
    "> `1.667`<br>\n",
    "\n",
    "As shown in the above representations, we associate and consider both i.e., 1.666 and 1.667 with the fraction 5/3, even though the first representation 1.666… is actually mathematically equal to the fraction.\n",
    "\n",
    "The second and third representations 1.666 and 1.667 is having an error on the order of 0.001, which is more problematic than the error between let’s say, 9.2 and 9.1999999999999993. The second representation isn't even rounded correctly!\n",
    "\n",
    "As we don't have an issue with 0.666 as a representation of the number 2/3, therefore we shouldn't really have a problem with how 9.2 is approximated.\n",
    "\n",
    "https://docs.python.org/2/tutorial/floatingpoint.html"
   ]
  },
  {
   "attachments": {},
   "cell_type": "markdown",
   "metadata": {},
   "source": [
    "To make the float an integer, we can do a type conversion which \n",
    "is an explicit method to convert an operand to a specific type.\n",
    "\n",
    "However, it is a lossy data conversion. Converting 2 to a floating point is fine."
   ]
  },
  {
   "cell_type": "code",
   "execution_count": null,
   "metadata": {},
   "outputs": [],
   "source": [
    "print(float(2))"
   ]
  },
  {
   "attachments": {},
   "cell_type": "markdown",
   "metadata": {},
   "source": [
    "But converting a float like 3.4 to in will result to 3 which leads\n",
    "to a lossy conversion"
   ]
  },
  {
   "cell_type": "code",
   "execution_count": null,
   "metadata": {},
   "outputs": [],
   "source": [
    "print(int(3.4))"
   ]
  },
  {
   "attachments": {},
   "cell_type": "markdown",
   "metadata": {},
   "source": [
    "#### Boolean (`bool`): either True or False."
   ]
  },
  {
   "cell_type": "code",
   "execution_count": null,
   "metadata": {},
   "outputs": [],
   "source": [
    "# Boolean\n",
    "\n",
    "print(True)\n",
    "print(False)\n",
    "print(not True)\n",
    "print(not False)"
   ]
  },
  {
   "attachments": {},
   "cell_type": "markdown",
   "metadata": {},
   "source": [
    "#### Sets (`sets`): a collection of unique items that are unordered and changeable, denoted by curly braces {}."
   ]
  },
  {
   "cell_type": "code",
   "execution_count": null,
   "metadata": {},
   "outputs": [],
   "source": [
    "my_set = set()\n",
    "print(f\"This is an empty set:\\n{my_set}\\n\") \n",
    "\n",
    "my_set = set([1, 2, 3])\n",
    "print(f\"This is my set populated from a dictionary:\\n{my_set}\\n\")\n",
    "\n",
    "my_set.add(4)\n",
    "print(f\"This is my set after adding '4' in the original set:\\n{my_set}\\n\") \n",
    "\n",
    "my_set.remove(2)\n",
    "print(f\"This is my set after removing '2':\\n{my_set}\\n\")\n",
    "\n",
    "# Difference between remove and discard:\n",
    "# - remove raises a key error if the element being removed does not exist\n",
    "# - discard does not raise any errors if the element being removed does not exist\n",
    "my_set.discard(2)\n",
    "print(f\"This is my set after discarding '2'\\n{my_set}\\n\") \n",
    "\n",
    "my_set.add(3)\n",
    "print(f\"This is my set after adding '3' in the previous set:\\n{my_set}\\n\")\n",
    "\n",
    "my_set.clear()\n",
    "print(f\"This is my set after clearing the values:\\n{my_set}\\n\")"
   ]
  },
  {
   "attachments": {},
   "cell_type": "markdown",
   "metadata": {},
   "source": [
    "A set cannot contain duplicate values. When you add a value to a set that already exists in the set, it will simply be ignored. "
   ]
  },
  {
   "attachments": {},
   "cell_type": "markdown",
   "metadata": {},
   "source": [
    "#### Lists (`list`): a collection of items that are ordered and changeable, denoted by square brackets []."
   ]
  },
  {
   "cell_type": "code",
   "execution_count": null,
   "metadata": {},
   "outputs": [],
   "source": [
    "def print_list(my_list):\n",
    "    print(\"List:\")\n",
    "    for list in my_list:\n",
    "        print(list)\n",
    "    print()\n",
    "\n",
    "fruits = [\"strawberry\", \"apple\", \"orange\", \"banana\", \"pineapple\"]\n",
    "\n",
    "print_list(fruits)\n",
    "\n",
    "print(f\"This is my fruit list:\\n{fruits}\\n\")\n",
    "\n",
    "fruits.sort()\n",
    "print(f\"This is my fruit list after sorting:\\n{fruits}\\n\")\n",
    "\n",
    "pay_per_day = [100, 100, 40, 99, 100]\n",
    "\n",
    "print(f\"Pay per day list:\\n{pay_per_day}\\n\")\n",
    "\n",
    "pay_per_day.sort()\n",
    "print(f\"Pay per day after sorting:\\n{pay_per_day}\\n\")\n",
    "\n",
    "pay_per_day.insert(2, 88)\n",
    "print(f\"Pay per day after inserting 88 on index 2:\\n{pay_per_day}\\n\")\n",
    "\n",
    "pay_per_day.remove(100)\n",
    "print(f\"Pay per day after removing 100:\\n{pay_per_day}\\n\")\n"
   ]
  },
  {
   "attachments": {},
   "cell_type": "markdown",
   "metadata": {},
   "source": [
    "#### Tuples (`tuple`): a collection of items that are ordered and unchangeable, denoted by parentheses ().\n"
   ]
  },
  {
   "cell_type": "code",
   "execution_count": null,
   "metadata": {},
   "outputs": [],
   "source": [
    "my_tuple = tuple()\n",
    "print(f\"This is an empty tuple:\\n{my_tuple}\\n\")\n",
    "\n",
    "my_tuple = (3, 8, 6, 1, 2, 3, 1, 1)\n",
    "print(f\"This is my tuple:\\n{my_tuple}\\n\")\n",
    "\n",
    "count = my_tuple.count(1)\n",
    "print(f\"The number '1' appeared {count} times in my tuple.\\n\")\n",
    "\n",
    "index = my_tuple.index(2)\n",
    "print(f\"The number '2' is found on index {index}\\n\")\n",
    "\n",
    "length = len(my_tuple)\n",
    "print(f\"The length of my tuple is {length}\\n\")\n",
    "\n",
    "sorted_tuple = sorted(my_tuple)\n",
    "print(f\"My tuple after sorting:\\n{sorted_tuple}\\n\")\n",
    "\n",
    "\n"
   ]
  },
  {
   "attachments": {},
   "cell_type": "markdown",
   "metadata": {},
   "source": [
    "#### What is the purpose of an empty tuple?\n",
    "\n",
    "An empty tuple can be useful in situations where you need to represent a collection of zero items. For example, you might want to return a tuple of values from a function, but in some cases, there are no values to return. In this case, you could return an empty tuple to indicate that there are no values.\n",
    "\n",
    "Another situation where an empty tuple can be useful is when you need to define a constant value that cannot be changed. Tuples are immutable in Python, which means that once a tuple is created, its values cannot be changed. If you need a constant value that has no elements, you can define it as an empty tuple."
   ]
  },
  {
   "attachments": {},
   "cell_type": "markdown",
   "metadata": {},
   "source": [
    "#### What is the purpose of tuples if we cannot amend them?\n",
    "\n",
    "Tuples are immutable sequences in Python, which means that once a tuple is created, its values cannot be changed. While this might seem limiting at first, there are several advantages to using tuples in Python.\n",
    "\n",
    "> **Tuples are faster than lists**: Since tuples are immutable, Python can make certain optimizations that are not possible with mutable objects like lists. For example, when you access an element in a tuple, Python can use a simpler indexing operation, rather than having to check whether the tuple has been modified since it was created.\n",
    "\n",
    "> **Tuples are safer than lists**: Because tuples are immutable, you can be sure that the values they contain will not be accidentally modified by your code. This can be especially useful in large programs, where it can be difficult to keep track of all the places where a particular value is used.\n",
    "\n",
    "> **Tuples can be used as dictionary keys**: Unlike lists, which cannot be used as dictionary keys, tuples can be used as keys in dictionaries. This is because dictionaries require their keys to be immutable, so that they can be used as a lookup value. Tuples are a natural choice for this, because they are immutable and can be used to represent a unique combination of values.\n",
    "\n",
    "> **Tuples can be used for multiple assignments**: When you assign a tuple to a set of variables in Python, the values in the tuple are automatically unpacked and assigned to the variables. This can be a very convenient way to assign multiple values at once.\n",
    "\n",
    "> **Tuples can be used as function arguments and return values**: When you call a function in Python, you can pass it a tuple as an argument, and the function can return a tuple as a result. This can be a convenient way to pass multiple values between functions, without having to create a new class or data structure.\n",
    "\n",
    "Overall, tuples can be a very useful data structure in Python, even though they are immutable. They can be used for a variety of purposes, including storing multiple values, representing complex data structures, and passing data between functions."
   ]
  },
  {
   "attachments": {},
   "cell_type": "markdown",
   "metadata": {},
   "source": [
    "#### Dictionaries (`dict`): a collection of key-value pairs that are unordered and changeable, denoted by curly braces {} with key-value pairs separated by a colon (:)."
   ]
  },
  {
   "attachments": {},
   "cell_type": "markdown",
   "metadata": {},
   "source": [
    "## Practice 1\n",
    "\n",
    "I have the following list:\n",
    "\n",
    "> `[2,1,2,1,1,3,1,4,2,4,2,1,1,2]`\n",
    "\n",
    "Write a Python code to remove all the duplicates?\n"
   ]
  },
  {
   "attachments": {},
   "cell_type": "markdown",
   "metadata": {},
   "source": [
    "## Practice 2\n",
    "\n",
    "I have the following list:\n",
    "\n",
    "> `[2,1,2,1,1,3,1,4,2,4,2,1,1,2]`\n",
    "\n",
    "Write a Python code to remove all the numbers below 3?"
   ]
  }
 ],
 "metadata": {
  "kernelspec": {
   "display_name": "how-to",
   "language": "python",
   "name": "python3"
  },
  "language_info": {
   "codemirror_mode": {
    "name": "ipython",
    "version": 3
   },
   "file_extension": ".py",
   "mimetype": "text/x-python",
   "name": "python",
   "nbconvert_exporter": "python",
   "pygments_lexer": "ipython3",
   "version": "3.10.7"
  },
  "orig_nbformat": 4
 },
 "nbformat": 4,
 "nbformat_minor": 2
}
