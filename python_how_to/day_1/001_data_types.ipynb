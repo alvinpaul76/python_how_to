{
 "cells": [
  {
   "attachments": {},
   "cell_type": "markdown",
   "metadata": {},
   "source": [
    "# VARIABLES\n",
    "\n",
    "Variables in Python are used to store data or values that can be later accessed and modified throughout the program. In Python, variables are dynamically typed, meaning you do not need to declare the data type of a variable before using it. \n",
    "\n",
    "You can simply assign a value to a variable, and Python will automatically assign the appropriate data type."
   ]
  },
  {
   "cell_type": "code",
   "execution_count": null,
   "metadata": {},
   "outputs": [],
   "source": [
    "# Variables\n",
    "\n",
    "my_string = \"Hello!\"\n",
    "my_int = 2\n",
    "my_float = 3.1415\n",
    "my_boolean = False\n",
    "\n",
    "print(my_string)\n",
    "print(my_int)\n",
    "print(my_float)\n",
    "print(my_boolean)\n",
    "print(not my_boolean)\n",
    "\n",
    "my_result = my_int * my_float\n",
    "print(my_result)\n",
    "\n",
    "# String concatenation\n",
    "print(\"The result of \" + str(my_int) + \" multiplied by \" + str(my_float) + \" is \" + str(my_result))\n",
    "print(\"The result of\", my_int, \"multiplied by\", my_float, \"is\",my_result)\n",
    "\n",
    "# %-Formatting\n",
    "print(\"The result of %s multiplied by %s is %s\" %(my_int, my_float, my_result))\n",
    "\n",
    "# join\n",
    "print(\" \".join([\"The result of\", str(my_int), \"multiplied by\", str(my_float),  \"is\",  str(my_result)]))\n",
    "\n",
    "# F-Strings\n",
    "print(f\"The result of {my_int} multiplied by {my_float} is {my_result}\")\n"
   ]
  },
  {
   "attachments": {},
   "cell_type": "markdown",
   "metadata": {},
   "source": [
    "# CONSTANTS\n",
    "\n",
    "In Python, constants are variables whose values cannot be modified once they are assigned. There is no explicit way to define constants in Python, but there are conventions that can be used to indicate that a variable should be treated as a constant.\n",
    "\n",
    "The convention for defining a constant in Python is to use uppercase letters and underscores to separate words in the variable name. For example, a constant for the value of pi might be defined as follows:\n",
    "\n",
    "> `PI = 3.14159`\n",
    "\n",
    "Note that this convention for constants is just that: a convention. There is nothing preventing you from changing the value of a variable defined in this way, except for the convention itself and good programming practices.\n",
    "\n",
    "The following code will not raise a TypeError because `PI` is simply a variable name that has been assigned a value. When you reassign `PI` to a new value, you are simply changing the value of that variable."
   ]
  },
  {
   "cell_type": "code",
   "execution_count": null,
   "metadata": {},
   "outputs": [],
   "source": [
    "PI = 3.1415\n",
    "print(PI)\n",
    "\n",
    "PI = 3.14\n",
    "print(PI)"
   ]
  },
  {
   "attachments": {},
   "cell_type": "markdown",
   "metadata": {},
   "source": [
    "Python does not have true constants like some other programming languages. In Python, you can reassign the value of a variable that was previously assigned to a constant-like value, and you will not get a TypeError.\n",
    "\n",
    "However, in Python, it is convention to use all-caps variable names to indicate that a variable is intended to be a constant-like value that should not be changed. While it is technically possible to change the value of such a variable, doing so goes against this convention and can make your code harder to read and understand.\n",
    "\n",
    "To make it more difficult to accidentally modify a variable that is intended to be a constant, you can use a namedtuple or a frozenset, which are immutable data structures. For example, you could create a namedtuple to represent a constant value like this:"
   ]
  },
  {
   "cell_type": "code",
   "execution_count": null,
   "metadata": {},
   "outputs": [],
   "source": [
    "from collections import namedtuple\n",
    "\n",
    "Constants = namedtuple('Constants', ['PI', 'E'])\n",
    "constants = Constants(3.14159, 2.71828)\n",
    "\n",
    "print(constants.PI)\n",
    "constants.PI = 3.14"
   ]
  },
  {
   "attachments": {},
   "cell_type": "markdown",
   "metadata": {},
   "source": [
    "Another way to create constants in Python is by using the enum module. `enum` stands for enumeration, which is a set of symbolic names (members) that are bound to unique, constant values."
   ]
  },
  {
   "cell_type": "code",
   "execution_count": null,
   "metadata": {},
   "outputs": [],
   "source": [
    "from enum import Enum\n",
    "\n",
    "class Constants(Enum):\n",
    "    PI = 3.14159\n",
    "    E = 2.71828\n",
    "\n",
    "print(Constants.PI.value)\n",
    "Constants.PI.value = 3.14"
   ]
  },
  {
   "attachments": {},
   "cell_type": "markdown",
   "metadata": {},
   "source": [
    "# DATA TYPES\n",
    "\n",
    "In Python, data types refer to the categories of values that can be manipulated in a program. Python is a dynamically-typed language, which means that the type of a variable is determined at runtime based on the value it holds."
   ]
  },
  {
   "attachments": {},
   "cell_type": "markdown",
   "metadata": {},
   "source": [
    "#### Strings (`str`): a sequence of characters"
   ]
  },
  {
   "cell_type": "code",
   "execution_count": null,
   "metadata": {},
   "outputs": [],
   "source": [
    "print('I am a string')\n",
    "print(\"I am a string\")\n",
    "print(\"I'm a string\")\n",
    "print('I am a \"string\"')\n",
    "print(\"I'm a \\\"string\\\"\")\n",
    "print(\"I'm\" + ' a \"string\"')"
   ]
  },
  {
   "attachments": {},
   "cell_type": "markdown",
   "metadata": {},
   "source": [
    "#### Integers (`int`): whole numbers without a decimal point"
   ]
  },
  {
   "cell_type": "code",
   "execution_count": null,
   "metadata": {},
   "outputs": [],
   "source": [
    "print(1)\n",
    "print(2)\n",
    "print(1+2)\n",
    "print(2*2)\n",
    "print(3/3)\n",
    "print(2-1)"
   ]
  },
  {
   "attachments": {},
   "cell_type": "markdown",
   "metadata": {},
   "source": [
    "#### Floats (`float`): numbers with a decimal point\n"
   ]
  },
  {
   "cell_type": "code",
   "execution_count": null,
   "metadata": {},
   "outputs": [],
   "source": [
    "print(1.234)\n",
    "print(3.14159265359)\n",
    "print(4.0)\n",
    "print(2.2+1.1)\n",
    "print(5.55-1.11)\n",
    "print(3.1*1.2)\n",
    "print(4.4/2.2)"
   ]
  },
  {
   "attachments": {},
   "cell_type": "markdown",
   "metadata": {},
   "source": [
    "## Why are floating-point calculations inaccurate?\n",
    "\n",
    "The floating-point calculations are inaccurate because mainly the rationals are approximating that cannot be represented finitely in base 2 and in general they are approximating numbers which may not be representable in finitely many digits in any base.\n",
    "\n",
    "Let’s say we have a fraction:\n",
    "> `5/3`\n",
    "\n",
    "We can write the above in base 10 as:\n",
    "> `1.666...`<br>\n",
    "> `1.666`<br>\n",
    "> `1.667`<br>\n",
    "\n",
    "As shown in the above representations, we associate and consider both i.e., 1.666 and 1.667 with the fraction 5/3, even though the first representation 1.666… is actually mathematically equal to the fraction.\n",
    "\n",
    "The second and third representations 1.666 and 1.667 is having an error on the order of 0.001, which is more problematic than the error between let’s say, 9.2 and 9.1999999999999993. The second representation isn't even rounded correctly!\n",
    "\n",
    "As we don't have an issue with 0.666 as a representation of the number 2/3, therefore we shouldn't really have a problem with how 9.2 is approximated.\n",
    "\n",
    "https://docs.python.org/2/tutorial/floatingpoint.html"
   ]
  },
  {
   "attachments": {},
   "cell_type": "markdown",
   "metadata": {},
   "source": [
    "To make the float an integer, we can do a type conversion which \n",
    "is an explicit method to convert an operand to a specific type.\n",
    "\n",
    "However, it is a lossy data conversion. Converting 2 to a floating point is fine."
   ]
  },
  {
   "cell_type": "code",
   "execution_count": null,
   "metadata": {},
   "outputs": [],
   "source": [
    "print(float(2))"
   ]
  },
  {
   "attachments": {},
   "cell_type": "markdown",
   "metadata": {},
   "source": [
    "But converting a float like 3.4 to in will result to 3 which leads\n",
    "to a lossy conversion"
   ]
  },
  {
   "cell_type": "code",
   "execution_count": null,
   "metadata": {},
   "outputs": [],
   "source": [
    "print(int(3.4))"
   ]
  },
  {
   "attachments": {},
   "cell_type": "markdown",
   "metadata": {},
   "source": [
    "#### Boolean (`bool`): either True or False."
   ]
  },
  {
   "cell_type": "code",
   "execution_count": null,
   "metadata": {},
   "outputs": [],
   "source": [
    "# Boolean\n",
    "\n",
    "print(True)\n",
    "print(False)\n",
    "print(not True)\n",
    "print(not False)"
   ]
  },
  {
   "attachments": {},
   "cell_type": "markdown",
   "metadata": {},
   "source": [
    "#### Sets (`sets`): a collection of unique items that are unordered and changeable, denoted by curly braces {}."
   ]
  },
  {
   "cell_type": "code",
   "execution_count": null,
   "metadata": {},
   "outputs": [],
   "source": [
    "my_set = set()\n",
    "print(f\"This is an empty set:\\n{my_set}\\n\") \n",
    "\n",
    "my_set = set([1, 2, 3])\n",
    "print(f\"This is my set populated from a dictionary:\\n{my_set}\\n\")\n",
    "\n",
    "my_set.add(4)\n",
    "print(f\"This is my set after adding '4' in the original set:\\n{my_set}\\n\") \n",
    "\n",
    "my_set.remove(2)\n",
    "print(f\"This is my set after removing '2':\\n{my_set}\\n\")\n",
    "\n",
    "# Difference between remove and discard:\n",
    "# - remove raises a key error if the element being removed does not exist\n",
    "# - discard does not raise any errors if the element being removed does not exist\n",
    "my_set.discard(2)\n",
    "print(f\"This is my set after discarding '2'\\n{my_set}\\n\") \n",
    "\n",
    "my_set.add(3)\n",
    "print(f\"This is my set after adding '3' in the previous set:\\n{my_set}\\n\")\n",
    "\n",
    "my_set.clear()\n",
    "print(f\"This is my set after clearing the values:\\n{my_set}\\n\")"
   ]
  },
  {
   "attachments": {},
   "cell_type": "markdown",
   "metadata": {},
   "source": [
    "A set cannot contain duplicate values. When you add a value to a set that already exists in the set, it will simply be ignored. "
   ]
  },
  {
   "attachments": {},
   "cell_type": "markdown",
   "metadata": {},
   "source": [
    "#### Lists (`list`): a collection of items that are ordered and changeable, denoted by square brackets []."
   ]
  },
  {
   "cell_type": "code",
   "execution_count": null,
   "metadata": {},
   "outputs": [],
   "source": [
    "def print_list(my_list):\n",
    "    print(\"List:\")\n",
    "    for list in my_list:\n",
    "        print(list)\n",
    "    print()\n",
    "\n",
    "fruits = [\"strawberry\", \"apple\", \"orange\", \"banana\", \"pineapple\"]\n",
    "\n",
    "print_list(fruits)\n",
    "\n",
    "print(f\"This is my fruit list:\\n{fruits}\\n\")\n",
    "\n",
    "fruits.sort()\n",
    "print(f\"This is my fruit list after sorting:\\n{fruits}\\n\")\n",
    "\n",
    "pay_per_day = [100, 100, 40, 99, 100]\n",
    "\n",
    "print(f\"Pay per day list:\\n{pay_per_day}\\n\")\n",
    "\n",
    "pay_per_day.sort()\n",
    "print(f\"Pay per day after sorting:\\n{pay_per_day}\\n\")\n",
    "\n",
    "pay_per_day.insert(2, 88)\n",
    "print(f\"Pay per day after inserting 88 on index 2:\\n{pay_per_day}\\n\")\n",
    "\n",
    "pay_per_day.remove(100)\n",
    "print(f\"Pay per day after removing 100:\\n{pay_per_day}\\n\")\n"
   ]
  },
  {
   "attachments": {},
   "cell_type": "markdown",
   "metadata": {},
   "source": [
    "#### Tuples (`tuple`): a collection of items that are ordered and unchangeable, denoted by parentheses ().\n"
   ]
  },
  {
   "cell_type": "code",
   "execution_count": null,
   "metadata": {},
   "outputs": [],
   "source": [
    "my_tuple = tuple()\n",
    "print(f\"This is an empty tuple:\\n{my_tuple}\\n\")\n",
    "\n",
    "my_tuple = (3, 8, 6, 1, 2, 3, 1, 1)\n",
    "print(f\"This is my tuple:\\n{my_tuple}\\n\")\n",
    "\n",
    "count = my_tuple.count(1)\n",
    "print(f\"The number '1' appeared {count} times in my tuple.\\n\")\n",
    "\n",
    "index = my_tuple.index(2)\n",
    "print(f\"The number '2' is found on index {index}\\n\")\n",
    "\n",
    "length = len(my_tuple)\n",
    "print(f\"The length of my tuple is {length}\\n\")\n",
    "\n",
    "sorted_tuple = sorted(my_tuple)\n",
    "print(f\"My tuple after sorting:\\n{sorted_tuple}\\n\")\n",
    "\n",
    "\n"
   ]
  },
  {
   "attachments": {},
   "cell_type": "markdown",
   "metadata": {},
   "source": [
    "#### What is the purpose of an empty tuple?\n",
    "\n",
    "An empty tuple can be useful in situations where you need to represent a collection of zero items. For example, you might want to return a tuple of values from a function, but in some cases, there are no values to return. In this case, you could return an empty tuple to indicate that there are no values.\n",
    "\n",
    "Another situation where an empty tuple can be useful is when you need to define a constant value that cannot be changed. Tuples are immutable in Python, which means that once a tuple is created, its values cannot be changed. If you need a constant value that has no elements, you can define it as an empty tuple."
   ]
  },
  {
   "attachments": {},
   "cell_type": "markdown",
   "metadata": {},
   "source": [
    "#### What is the purpose of tuples if we cannot amend them?\n",
    "\n",
    "Tuples are immutable sequences in Python, which means that once a tuple is created, its values cannot be changed. While this might seem limiting at first, there are several advantages to using tuples in Python.\n",
    "\n",
    "> **Tuples are faster than lists**: Since tuples are immutable, Python can make certain optimizations that are not possible with mutable objects like lists. For example, when you access an element in a tuple, Python can use a simpler indexing operation, rather than having to check whether the tuple has been modified since it was created.\n",
    "\n",
    "> **Tuples are safer than lists**: Because tuples are immutable, you can be sure that the values they contain will not be accidentally modified by your code. This can be especially useful in large programs, where it can be difficult to keep track of all the places where a particular value is used.\n",
    "\n",
    "> **Tuples can be used as dictionary keys**: Unlike lists, which cannot be used as dictionary keys, tuples can be used as keys in dictionaries. This is because dictionaries require their keys to be immutable, so that they can be used as a lookup value. Tuples are a natural choice for this, because they are immutable and can be used to represent a unique combination of values.\n",
    "\n",
    "> **Tuples can be used for multiple assignments**: When you assign a tuple to a set of variables in Python, the values in the tuple are automatically unpacked and assigned to the variables. This can be a very convenient way to assign multiple values at once.\n",
    "\n",
    "> **Tuples can be used as function arguments and return values**: When you call a function in Python, you can pass it a tuple as an argument, and the function can return a tuple as a result. This can be a convenient way to pass multiple values between functions, without having to create a new class or data structure.\n",
    "\n",
    "Overall, tuples can be a very useful data structure in Python, even though they are immutable. They can be used for a variety of purposes, including storing multiple values, representing complex data structures, and passing data between functions."
   ]
  },
  {
   "attachments": {},
   "cell_type": "markdown",
   "metadata": {},
   "source": [
    "#### Dictionaries (`dict`): a collection of key-value pairs that are unordered and changeable, denoted by curly braces {} with key-value pairs separated by a colon (:)."
   ]
  },
  {
   "cell_type": "code",
   "execution_count": null,
   "metadata": {},
   "outputs": [],
   "source": [
    "my_dict = {\"apple\": 2, \"banana\": 3, \"orange\": 1}\n",
    "print(f\"This is my dictionary:\\n{my_dict}\\n\")\n",
    "\n",
    "print(f\"This is how I access a value in a dictionary:\\n{my_dict['apple']}\\n\")\n",
    "\n",
    "my_dict[\"grape\"] = 4\n",
    "print(f\"This is my dictionary after updating the value of grape:\\n{my_dict}\\n\")\n",
    "\n",
    "del my_dict[\"banana\"]\n",
    "print(f\"This is my dictionary after deleting the key value pair of banana:\\n{my_dict}\\n\")\n",
    "\n",
    "if \"apple\" in my_dict:\n",
    "    print(f\"apple has a value of {my_dict['apple']}\\n\")\n",
    "else:\n",
    "    print(\"Unable to find apple in the dictionary!\\n\")\n",
    "\n",
    "print(f\"Here are all the keys of my dictionary:\\n{my_dict.keys()}\\n\")\n",
    "print(f\"Here are all the values of my dictionary:\\n{my_dict.values()}\\n\")\n",
    "\n",
    "for key in my_dict:\n",
    "    print(f\"{key} has a value of {my_dict[key]}\")\n",
    "print()\n",
    "\n",
    "# dictionary comprehension\n",
    "new_dict = {key: value for key, value in my_dict.items() if value > 2}\n",
    "print(f\"This is a new dictionary derived from my_dict which contains all items which has a value > 2:\\n{new_dict}\\n\")"
   ]
  }
 ],
 "metadata": {
  "kernelspec": {
   "display_name": "Python 3",
   "language": "python",
   "name": "python3"
  },
  "language_info": {
   "codemirror_mode": {
    "name": "ipython",
    "version": 3
   },
   "file_extension": ".py",
   "mimetype": "text/x-python",
   "name": "python",
   "nbconvert_exporter": "python",
   "pygments_lexer": "ipython3",
   "version": "3.9.2"
  },
  "orig_nbformat": 4,
  "vscode": {
   "interpreter": {
    "hash": "81794d4967e6c3204c66dcd87b604927b115b27c00565d3d43f05ba2f3a2cb0d"
   }
  }
 },
 "nbformat": 4,
 "nbformat_minor": 2
}
