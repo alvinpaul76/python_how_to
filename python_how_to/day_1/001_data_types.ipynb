{
 "cells": [
  {
   "attachments": {},
   "cell_type": "markdown",
   "metadata": {},
   "source": [
    "# DATA TYPES"
   ]
  },
  {
   "attachments": {},
   "cell_type": "markdown",
   "metadata": {},
   "source": [
    "#### Strings (`str`): a sequence of characters"
   ]
  },
  {
   "cell_type": "code",
   "execution_count": null,
   "metadata": {},
   "outputs": [],
   "source": [
    "print('I am a string')\n",
    "print(\"I am a string\")\n",
    "print(\"I'm a string\")\n",
    "print('I am a \"string\"')\n",
    "print(\"I'm a \\\"string\\\"\")\n",
    "print(\"I'm\" + ' a \"string\"')"
   ]
  },
  {
   "attachments": {},
   "cell_type": "markdown",
   "metadata": {},
   "source": [
    "#### Integers (`int`): whole numbers without a decimal point"
   ]
  },
  {
   "cell_type": "code",
   "execution_count": null,
   "metadata": {},
   "outputs": [],
   "source": [
    "print(1)\n",
    "print(2)\n",
    "print(1+2)\n",
    "print(2*2)\n",
    "print(3/3)\n",
    "print(2-1)"
   ]
  },
  {
   "attachments": {},
   "cell_type": "markdown",
   "metadata": {},
   "source": [
    "#### Floats (`float`): numbers with a decimal point\n"
   ]
  },
  {
   "cell_type": "code",
   "execution_count": null,
   "metadata": {},
   "outputs": [],
   "source": [
    "print(1.234)\n",
    "print(3.14159265359)\n",
    "print(4.0)\n",
    "print(2.2+1.1)\n",
    "print(5.55-1.11)\n",
    "print(3.1*1.2)\n",
    "print(4.4/2.2)"
   ]
  },
  {
   "attachments": {},
   "cell_type": "markdown",
   "metadata": {},
   "source": [
    "## Why are floating-point calculations inaccurate?\n",
    "\n",
    "The floating-point calculations are inaccurate because mainly the rationals are approximating that cannot be represented finitely in base 2 and in general they are approximating numbers which may not be representable in finitely many digits in any base.\n",
    "\n",
    "Let’s say we have a fraction:\n",
    "> `5/3`\n",
    "\n",
    "We can write the above in base 10 as:\n",
    "> `1.666...`<br>\n",
    "> `1.666`<br>\n",
    "> `1.667`<br>\n",
    "\n",
    "As shown in the above representations, we associate and consider both i.e., 1.666 and 1.667 with the fraction 5/3, even though the first representation 1.666… is actually mathematically equal to the fraction.\n",
    "\n",
    "The second and third representations 1.666 and 1.667 is having an error on the order of 0.001, which is more problematic than the error between let’s say, 9.2 and 9.1999999999999993. The second representation isn't even rounded correctly!\n",
    "\n",
    "As we don't have an issue with 0.666 as a representation of the number 2/3, therefore we shouldn't really have a problem with how 9.2 is approximated.\n",
    "\n",
    "https://docs.python.org/2/tutorial/floatingpoint.html"
   ]
  },
  {
   "attachments": {},
   "cell_type": "markdown",
   "metadata": {},
   "source": [
    "To make the float an integer, we can do a type conversion which \n",
    "is an explicit method to convert an operand to a specific type.\n",
    "\n",
    "However, it is a lossy data conversion. Converting 2 to a floating point is fine."
   ]
  },
  {
   "cell_type": "code",
   "execution_count": null,
   "metadata": {},
   "outputs": [],
   "source": [
    "print(float(2))"
   ]
  },
  {
   "attachments": {},
   "cell_type": "markdown",
   "metadata": {},
   "source": [
    "But converting a float like 3.4 to in will result to 3 which leads\n",
    "to a lossy conversion"
   ]
  },
  {
   "cell_type": "code",
   "execution_count": null,
   "metadata": {},
   "outputs": [],
   "source": [
    "print(int(3.4))"
   ]
  },
  {
   "attachments": {},
   "cell_type": "markdown",
   "metadata": {},
   "source": [
    "#### Boolean (`bool`): either True or False."
   ]
  },
  {
   "cell_type": "code",
   "execution_count": null,
   "metadata": {},
   "outputs": [],
   "source": [
    "# Boolean\n",
    "\n",
    "print(True)\n",
    "print(False)\n",
    "print(not True)\n",
    "print(not False)"
   ]
  },
  {
   "attachments": {},
   "cell_type": "markdown",
   "metadata": {},
   "source": [
    "#### Sets (`sets`): a collection of unique items that are unordered and changeable, denoted by curly braces {}."
   ]
  },
  {
   "cell_type": "code",
   "execution_count": null,
   "metadata": {},
   "outputs": [],
   "source": [
    "my_set = set()\n",
    "print(f\"This is an empty set {my_set}\") \n",
    "\n",
    "my_set = set([1, 2, 3])\n",
    "print(f\"This is my set populated from a dictionary {my_set}\")\n",
    "\n",
    "my_set.add(4)\n",
    "print(f\"This is my set after adding '4' in the original set {my_set}\") \n",
    "\n",
    "my_set.remove(2)\n",
    "print(f\"This is my set after removing '2' {my_set}\")\n",
    "\n",
    "# Difference between remove and discard:\n",
    "# - remove raises a key error if the element being removed does not exist\n",
    "# - discard does not raise any errors if the element being removed does not exist\n",
    "my_set.discard(2)\n",
    "print(f\"This is my set after discarding '2' {my_set}\") \n",
    "\n",
    "\n",
    "my_set.add(3)\n",
    "print(f\"This is my set after adding '3' in the previous set {my_set}\")\n",
    "\n",
    "my_set.clear()\n",
    "print(f\"This is my set after clearing the values {my_set}\")"
   ]
  },
  {
   "attachments": {},
   "cell_type": "markdown",
   "metadata": {},
   "source": [
    "A set cannot contain duplicate values. When you add a value to a set that already exists in the set, it will simply be ignored. "
   ]
  },
  {
   "attachments": {},
   "cell_type": "markdown",
   "metadata": {},
   "source": [
    "#### Lists (`list`): a collection of items that are ordered and changeable, denoted by square brackets []."
   ]
  },
  {
   "cell_type": "code",
   "execution_count": null,
   "metadata": {},
   "outputs": [],
   "source": [
    "def print_list(my_list):\n",
    "    print(\"List:\")\n",
    "    for list in my_list:\n",
    "        print(list)\n",
    "\n",
    "fruits = [\"strawberry\", \"apple\", \"orange\", \"banana\", \"pineapple\"]\n",
    "\n",
    "print_list(fruits)\n",
    "print(f\"This is my fruit list {fruits}\")\n",
    "\n",
    "fruits.sort()\n",
    "print(f\"This is my fruit list after sorting {fruits}\")\n",
    "\n",
    "pay_per_day = [100, 100, 40, 99, 100]\n",
    "\n",
    "print_list(pay_per_day)\n",
    "print(f\"Pay per day {pay_per_day}\")\n",
    "\n",
    "pay_per_day.sort()\n",
    "print(f\"Pay per day after sorting {pay_per_day}\")\n",
    "\n",
    "pay_per_day.insert(2, 88)\n",
    "print(f\"Pay per day after insert {pay_per_day}\")\n",
    "\n",
    "pay_per_day.remove(100)\n",
    "print(f\"Pay per day after removing 100 {pay_per_day}\")\n"
   ]
  },
  {
   "attachments": {},
   "cell_type": "markdown",
   "metadata": {},
   "source": [
    "#### Tuples (`tuple`): a collection of items that are ordered and unchangeable, denoted by parentheses ().\n"
   ]
  },
  {
   "cell_type": "code",
   "execution_count": null,
   "metadata": {},
   "outputs": [],
   "source": []
  },
  {
   "attachments": {},
   "cell_type": "markdown",
   "metadata": {},
   "source": [
    "#### Dictionaries (`dict`): a collection of key-value pairs that are unordered and changeable, denoted by curly braces {} with key-value pairs separated by a colon (:)."
   ]
  },
  {
   "attachments": {},
   "cell_type": "markdown",
   "metadata": {},
   "source": [
    "## Practice 1\n",
    "\n",
    "I have the following list:\n",
    "\n",
    "> `[2,1,2,1,1,3,1,4,2,4,2,1,1,2]`\n",
    "\n",
    "Write a Python code to remove all the duplicates?\n"
   ]
  },
  {
   "attachments": {},
   "cell_type": "markdown",
   "metadata": {},
   "source": [
    "## Practice 2\n",
    "\n",
    "I have the following list:\n",
    "\n",
    "> `[2,1,2,1,1,3,1,4,2,4,2,1,1,2]`\n",
    "\n",
    "Write a Python code to remove all the numbers below 3?"
   ]
  },
  {
   "cell_type": "code",
   "execution_count": null,
   "metadata": {},
   "outputs": [],
   "source": [
    "# Variables\n",
    "\n",
    "my_string = \"Hello!\"\n",
    "my_int = 2\n",
    "my_float = 3.1415\n",
    "my_boolean = False\n",
    "\n",
    "print(my_string)\n",
    "print(my_int)\n",
    "print(my_float)\n",
    "print(my_boolean)\n",
    "print(not my_boolean)\n",
    "\n",
    "my_result = my_int * my_float\n",
    "print(my_result)\n",
    "\n",
    "# String concatenation\n",
    "print(\"The result of \" + str(my_int) + \" multiplied by \" + str(my_float) + \" is \" + str(my_result))\n",
    "print(\"The result of\", my_int, \"multiplied by\", my_float, \"is\",my_result)\n",
    "\n",
    "# %-Formatting\n",
    "print(\"The result of %s multiplied by %s is %s\" %(my_int, my_float, my_result))\n",
    "\n",
    "# join\n",
    "print(\" \".join([\"The result of\", str(my_int), \"multiplied by\", str(my_float),  \"is\",  str(my_result)]))\n",
    "\n",
    "# F-Strings\n",
    "print(f\"The result of {my_int} multiplied by {my_float} is {my_result}\")\n"
   ]
  }
 ],
 "metadata": {
  "kernelspec": {
   "display_name": "how-to",
   "language": "python",
   "name": "python3"
  },
  "language_info": {
   "codemirror_mode": {
    "name": "ipython",
    "version": 3
   },
   "file_extension": ".py",
   "mimetype": "text/x-python",
   "name": "python",
   "nbconvert_exporter": "python",
   "pygments_lexer": "ipython3",
   "version": "3.10.7"
  },
  "orig_nbformat": 4
 },
 "nbformat": 4,
 "nbformat_minor": 2
}
