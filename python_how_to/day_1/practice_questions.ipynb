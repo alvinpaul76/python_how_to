{
 "cells": [
  {
   "attachments": {},
   "cell_type": "markdown",
   "metadata": {},
   "source": [
    "## Practice 1\n",
    "\n",
    "I have the following dictionary:\n",
    "\n",
    "> {\"one\": 1, \"two\": 2, \"three\": 3}\n",
    "\n",
    "Write a Python code to put all the keys of of the dictionary in a new list and the values in another list."
   ]
  },
  {
   "attachments": {},
   "cell_type": "markdown",
   "metadata": {},
   "source": [
    "## Practice 2\n",
    "\n",
    "I have the following list:\n",
    "\n",
    "> `[2,1,2,1,1,3,1,4,2,4,2,1,1,2]`\n",
    "\n",
    "Write a Python code to remove all the duplicates.\n"
   ]
  },
  {
   "attachments": {},
   "cell_type": "markdown",
   "metadata": {},
   "source": [
    "## Practice 3\n",
    "\n",
    "I have the following list:\n",
    "\n",
    "> `[2,1,2,1,1,3,1,4,2,4,2,1,1,2]`\n",
    "\n",
    "Write a Python code to remove all the numbers below 3."
   ]
  }
 ],
 "metadata": {
  "language_info": {
   "name": "python"
  },
  "orig_nbformat": 4
 },
 "nbformat": 4,
 "nbformat_minor": 2
}
